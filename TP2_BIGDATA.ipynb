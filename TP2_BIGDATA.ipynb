{
  "nbformat": 4,
  "nbformat_minor": 0,
  "metadata": {
    "colab": {
      "provenance": []
    },
    "kernelspec": {
      "name": "python3",
      "display_name": "Python 3"
    },
    "language_info": {
      "name": "python"
    }
  },
  "cells": [
    {
      "cell_type": "markdown",
      "source": [
        "#Laboratorio:\n",
        "##Clasificador de canciones de Spotify"
      ],
      "metadata": {
        "id": "o2vcXe_837IU"
      }
    },
    {
      "cell_type": "markdown",
      "source": [
        "###Materia: *Elementos de aprendizaje de maquina y Big Data*"
      ],
      "metadata": {
        "id": "ZfLMwugI4KaO"
      }
    },
    {
      "cell_type": "markdown",
      "source": [
        "En este notebook de colab desarrollaremos los modelos de clasificacion solicitados para intentar lograr el objetivo de poder generar un clasificador que prediga las inclinaciones musicales de una persona, con un conjunto de datos real de la plataforma musical Spotify."
      ],
      "metadata": {
        "id": "DgDhASn-40mS"
      }
    },
    {
      "cell_type": "markdown",
      "source": [
        "\n",
        "\n",
        "---\n",
        "\n"
      ],
      "metadata": {
        "id": "wjL3usz35Waq"
      }
    },
    {
      "cell_type": "markdown",
      "source": [
        "Importamos las primeras librerias que sabemos que vamos a utilizar:"
      ],
      "metadata": {
        "id": "PcClImVZ59yQ"
      }
    },
    {
      "cell_type": "code",
      "execution_count": null,
      "metadata": {
        "id": "ZSWHWqFscghm"
      },
      "outputs": [],
      "source": [
        "import numpy as np\n",
        "import matplotlib.pyplot as plt\n",
        "import seaborn as sns\n",
        "import pandas as pd\n",
        "import plotly.graph_objects as go\n",
        "from sklearn.neighbors import KNeighborsClassifier"
      ]
    },
    {
      "cell_type": "code",
      "source": [
        "data = pd.read_csv('/content/drive/MyDrive/Colab Notebooks/Big data - Machine Learning 2023/Canciones_Spotify.csv') #abrimos el conjunto de datos"
      ],
      "metadata": {
        "id": "i5E0YYLwcook"
      },
      "execution_count": null,
      "outputs": []
    },
    {
      "cell_type": "code",
      "source": [
        "data #damos un vistazo a los datos que se nos presentan"
      ],
      "metadata": {
        "colab": {
          "base_uri": "https://localhost:8080/",
          "height": 424
        },
        "id": "crPaxNEzc3-k",
        "outputId": "6b15ccb7-4923-4f0b-d2a7-74646c7a5256"
      },
      "execution_count": null,
      "outputs": [
        {
          "output_type": "execute_result",
          "data": {
            "text/plain": [
              "      Unnamed: 0  acousticness  danceability  duration_ms  energy  \\\n",
              "0              0       0.01020         0.833       204600   0.434   \n",
              "1              1       0.19900         0.743       326933   0.359   \n",
              "2              2       0.03440         0.838       185707   0.412   \n",
              "3              3       0.60400         0.494       199413   0.338   \n",
              "4              4       0.18000         0.678       392893   0.561   \n",
              "...          ...           ...           ...          ...     ...   \n",
              "2012        2012       0.00106         0.584       274404   0.932   \n",
              "2013        2013       0.08770         0.894       182182   0.892   \n",
              "2014        2014       0.00857         0.637       207200   0.935   \n",
              "2015        2015       0.00164         0.557       185600   0.992   \n",
              "2016        2016       0.00281         0.446       204520   0.915   \n",
              "\n",
              "      instrumentalness  key  liveness  loudness  mode  speechiness    tempo  \\\n",
              "0             0.021900    2    0.1650    -8.795     1       0.4310  150.062   \n",
              "1             0.006110    1    0.1370   -10.401     1       0.0794  160.083   \n",
              "2             0.000234    2    0.1590    -7.148     1       0.2890   75.044   \n",
              "3             0.510000    5    0.0922   -15.236     1       0.0261   86.468   \n",
              "4             0.512000    5    0.4390   -11.648     0       0.0694  174.004   \n",
              "...                ...  ...       ...       ...   ...          ...      ...   \n",
              "2012          0.002690    1    0.1290    -3.501     1       0.3330   74.976   \n",
              "2013          0.001670    1    0.0528    -2.663     1       0.1310  110.041   \n",
              "2014          0.003990    0    0.2140    -2.467     1       0.1070  150.082   \n",
              "2015          0.677000    1    0.0913    -2.735     1       0.1330  150.011   \n",
              "2016          0.000039    9    0.2180    -6.221     1       0.1410  190.013   \n",
              "\n",
              "      time_signature  valence  target                            song_title  \\\n",
              "0                4.0    0.286       1                              Mask Off   \n",
              "1                4.0    0.588       1                               Redbone   \n",
              "2                4.0    0.173       1                          Xanny Family   \n",
              "3                4.0    0.230       1                        Master Of None   \n",
              "4                4.0    0.904       1                        Parallel Lines   \n",
              "...              ...      ...     ...                                   ...   \n",
              "2012             4.0    0.211       0   Like A Bitch - Kill The Noise Remix   \n",
              "2013             4.0    0.867       0                                 Candy   \n",
              "2014             4.0    0.470       0  Habit - Dack Janiels & Wenzday Remix   \n",
              "2015             4.0    0.623       0                         First Contact   \n",
              "2016             4.0    0.402       0                    I Wanna Get Better   \n",
              "\n",
              "                artist  \n",
              "0               Future  \n",
              "1     Childish Gambino  \n",
              "2               Future  \n",
              "3          Beach House  \n",
              "4          Junior Boys  \n",
              "...                ...  \n",
              "2012    Kill The Noise  \n",
              "2013    Dillon Francis  \n",
              "2014          Rain Man  \n",
              "2015        Twin Moons  \n",
              "2016         Bleachers  \n",
              "\n",
              "[2017 rows x 17 columns]"
            ],
            "text/html": [
              "\n",
              "  <div id=\"df-8a582fa1-d842-4f14-8317-4a8efbb98c5e\" class=\"colab-df-container\">\n",
              "    <div>\n",
              "<style scoped>\n",
              "    .dataframe tbody tr th:only-of-type {\n",
              "        vertical-align: middle;\n",
              "    }\n",
              "\n",
              "    .dataframe tbody tr th {\n",
              "        vertical-align: top;\n",
              "    }\n",
              "\n",
              "    .dataframe thead th {\n",
              "        text-align: right;\n",
              "    }\n",
              "</style>\n",
              "<table border=\"1\" class=\"dataframe\">\n",
              "  <thead>\n",
              "    <tr style=\"text-align: right;\">\n",
              "      <th></th>\n",
              "      <th>Unnamed: 0</th>\n",
              "      <th>acousticness</th>\n",
              "      <th>danceability</th>\n",
              "      <th>duration_ms</th>\n",
              "      <th>energy</th>\n",
              "      <th>instrumentalness</th>\n",
              "      <th>key</th>\n",
              "      <th>liveness</th>\n",
              "      <th>loudness</th>\n",
              "      <th>mode</th>\n",
              "      <th>speechiness</th>\n",
              "      <th>tempo</th>\n",
              "      <th>time_signature</th>\n",
              "      <th>valence</th>\n",
              "      <th>target</th>\n",
              "      <th>song_title</th>\n",
              "      <th>artist</th>\n",
              "    </tr>\n",
              "  </thead>\n",
              "  <tbody>\n",
              "    <tr>\n",
              "      <th>0</th>\n",
              "      <td>0</td>\n",
              "      <td>0.01020</td>\n",
              "      <td>0.833</td>\n",
              "      <td>204600</td>\n",
              "      <td>0.434</td>\n",
              "      <td>0.021900</td>\n",
              "      <td>2</td>\n",
              "      <td>0.1650</td>\n",
              "      <td>-8.795</td>\n",
              "      <td>1</td>\n",
              "      <td>0.4310</td>\n",
              "      <td>150.062</td>\n",
              "      <td>4.0</td>\n",
              "      <td>0.286</td>\n",
              "      <td>1</td>\n",
              "      <td>Mask Off</td>\n",
              "      <td>Future</td>\n",
              "    </tr>\n",
              "    <tr>\n",
              "      <th>1</th>\n",
              "      <td>1</td>\n",
              "      <td>0.19900</td>\n",
              "      <td>0.743</td>\n",
              "      <td>326933</td>\n",
              "      <td>0.359</td>\n",
              "      <td>0.006110</td>\n",
              "      <td>1</td>\n",
              "      <td>0.1370</td>\n",
              "      <td>-10.401</td>\n",
              "      <td>1</td>\n",
              "      <td>0.0794</td>\n",
              "      <td>160.083</td>\n",
              "      <td>4.0</td>\n",
              "      <td>0.588</td>\n",
              "      <td>1</td>\n",
              "      <td>Redbone</td>\n",
              "      <td>Childish Gambino</td>\n",
              "    </tr>\n",
              "    <tr>\n",
              "      <th>2</th>\n",
              "      <td>2</td>\n",
              "      <td>0.03440</td>\n",
              "      <td>0.838</td>\n",
              "      <td>185707</td>\n",
              "      <td>0.412</td>\n",
              "      <td>0.000234</td>\n",
              "      <td>2</td>\n",
              "      <td>0.1590</td>\n",
              "      <td>-7.148</td>\n",
              "      <td>1</td>\n",
              "      <td>0.2890</td>\n",
              "      <td>75.044</td>\n",
              "      <td>4.0</td>\n",
              "      <td>0.173</td>\n",
              "      <td>1</td>\n",
              "      <td>Xanny Family</td>\n",
              "      <td>Future</td>\n",
              "    </tr>\n",
              "    <tr>\n",
              "      <th>3</th>\n",
              "      <td>3</td>\n",
              "      <td>0.60400</td>\n",
              "      <td>0.494</td>\n",
              "      <td>199413</td>\n",
              "      <td>0.338</td>\n",
              "      <td>0.510000</td>\n",
              "      <td>5</td>\n",
              "      <td>0.0922</td>\n",
              "      <td>-15.236</td>\n",
              "      <td>1</td>\n",
              "      <td>0.0261</td>\n",
              "      <td>86.468</td>\n",
              "      <td>4.0</td>\n",
              "      <td>0.230</td>\n",
              "      <td>1</td>\n",
              "      <td>Master Of None</td>\n",
              "      <td>Beach House</td>\n",
              "    </tr>\n",
              "    <tr>\n",
              "      <th>4</th>\n",
              "      <td>4</td>\n",
              "      <td>0.18000</td>\n",
              "      <td>0.678</td>\n",
              "      <td>392893</td>\n",
              "      <td>0.561</td>\n",
              "      <td>0.512000</td>\n",
              "      <td>5</td>\n",
              "      <td>0.4390</td>\n",
              "      <td>-11.648</td>\n",
              "      <td>0</td>\n",
              "      <td>0.0694</td>\n",
              "      <td>174.004</td>\n",
              "      <td>4.0</td>\n",
              "      <td>0.904</td>\n",
              "      <td>1</td>\n",
              "      <td>Parallel Lines</td>\n",
              "      <td>Junior Boys</td>\n",
              "    </tr>\n",
              "    <tr>\n",
              "      <th>...</th>\n",
              "      <td>...</td>\n",
              "      <td>...</td>\n",
              "      <td>...</td>\n",
              "      <td>...</td>\n",
              "      <td>...</td>\n",
              "      <td>...</td>\n",
              "      <td>...</td>\n",
              "      <td>...</td>\n",
              "      <td>...</td>\n",
              "      <td>...</td>\n",
              "      <td>...</td>\n",
              "      <td>...</td>\n",
              "      <td>...</td>\n",
              "      <td>...</td>\n",
              "      <td>...</td>\n",
              "      <td>...</td>\n",
              "      <td>...</td>\n",
              "    </tr>\n",
              "    <tr>\n",
              "      <th>2012</th>\n",
              "      <td>2012</td>\n",
              "      <td>0.00106</td>\n",
              "      <td>0.584</td>\n",
              "      <td>274404</td>\n",
              "      <td>0.932</td>\n",
              "      <td>0.002690</td>\n",
              "      <td>1</td>\n",
              "      <td>0.1290</td>\n",
              "      <td>-3.501</td>\n",
              "      <td>1</td>\n",
              "      <td>0.3330</td>\n",
              "      <td>74.976</td>\n",
              "      <td>4.0</td>\n",
              "      <td>0.211</td>\n",
              "      <td>0</td>\n",
              "      <td>Like A Bitch - Kill The Noise Remix</td>\n",
              "      <td>Kill The Noise</td>\n",
              "    </tr>\n",
              "    <tr>\n",
              "      <th>2013</th>\n",
              "      <td>2013</td>\n",
              "      <td>0.08770</td>\n",
              "      <td>0.894</td>\n",
              "      <td>182182</td>\n",
              "      <td>0.892</td>\n",
              "      <td>0.001670</td>\n",
              "      <td>1</td>\n",
              "      <td>0.0528</td>\n",
              "      <td>-2.663</td>\n",
              "      <td>1</td>\n",
              "      <td>0.1310</td>\n",
              "      <td>110.041</td>\n",
              "      <td>4.0</td>\n",
              "      <td>0.867</td>\n",
              "      <td>0</td>\n",
              "      <td>Candy</td>\n",
              "      <td>Dillon Francis</td>\n",
              "    </tr>\n",
              "    <tr>\n",
              "      <th>2014</th>\n",
              "      <td>2014</td>\n",
              "      <td>0.00857</td>\n",
              "      <td>0.637</td>\n",
              "      <td>207200</td>\n",
              "      <td>0.935</td>\n",
              "      <td>0.003990</td>\n",
              "      <td>0</td>\n",
              "      <td>0.2140</td>\n",
              "      <td>-2.467</td>\n",
              "      <td>1</td>\n",
              "      <td>0.1070</td>\n",
              "      <td>150.082</td>\n",
              "      <td>4.0</td>\n",
              "      <td>0.470</td>\n",
              "      <td>0</td>\n",
              "      <td>Habit - Dack Janiels &amp; Wenzday Remix</td>\n",
              "      <td>Rain Man</td>\n",
              "    </tr>\n",
              "    <tr>\n",
              "      <th>2015</th>\n",
              "      <td>2015</td>\n",
              "      <td>0.00164</td>\n",
              "      <td>0.557</td>\n",
              "      <td>185600</td>\n",
              "      <td>0.992</td>\n",
              "      <td>0.677000</td>\n",
              "      <td>1</td>\n",
              "      <td>0.0913</td>\n",
              "      <td>-2.735</td>\n",
              "      <td>1</td>\n",
              "      <td>0.1330</td>\n",
              "      <td>150.011</td>\n",
              "      <td>4.0</td>\n",
              "      <td>0.623</td>\n",
              "      <td>0</td>\n",
              "      <td>First Contact</td>\n",
              "      <td>Twin Moons</td>\n",
              "    </tr>\n",
              "    <tr>\n",
              "      <th>2016</th>\n",
              "      <td>2016</td>\n",
              "      <td>0.00281</td>\n",
              "      <td>0.446</td>\n",
              "      <td>204520</td>\n",
              "      <td>0.915</td>\n",
              "      <td>0.000039</td>\n",
              "      <td>9</td>\n",
              "      <td>0.2180</td>\n",
              "      <td>-6.221</td>\n",
              "      <td>1</td>\n",
              "      <td>0.1410</td>\n",
              "      <td>190.013</td>\n",
              "      <td>4.0</td>\n",
              "      <td>0.402</td>\n",
              "      <td>0</td>\n",
              "      <td>I Wanna Get Better</td>\n",
              "      <td>Bleachers</td>\n",
              "    </tr>\n",
              "  </tbody>\n",
              "</table>\n",
              "<p>2017 rows × 17 columns</p>\n",
              "</div>\n",
              "    <div class=\"colab-df-buttons\">\n",
              "\n",
              "  <div class=\"colab-df-container\">\n",
              "    <button class=\"colab-df-convert\" onclick=\"convertToInteractive('df-8a582fa1-d842-4f14-8317-4a8efbb98c5e')\"\n",
              "            title=\"Convert this dataframe to an interactive table.\"\n",
              "            style=\"display:none;\">\n",
              "\n",
              "  <svg xmlns=\"http://www.w3.org/2000/svg\" height=\"24px\" viewBox=\"0 -960 960 960\">\n",
              "    <path d=\"M120-120v-720h720v720H120Zm60-500h600v-160H180v160Zm220 220h160v-160H400v160Zm0 220h160v-160H400v160ZM180-400h160v-160H180v160Zm440 0h160v-160H620v160ZM180-180h160v-160H180v160Zm440 0h160v-160H620v160Z\"/>\n",
              "  </svg>\n",
              "    </button>\n",
              "\n",
              "  <style>\n",
              "    .colab-df-container {\n",
              "      display:flex;\n",
              "      gap: 12px;\n",
              "    }\n",
              "\n",
              "    .colab-df-convert {\n",
              "      background-color: #E8F0FE;\n",
              "      border: none;\n",
              "      border-radius: 50%;\n",
              "      cursor: pointer;\n",
              "      display: none;\n",
              "      fill: #1967D2;\n",
              "      height: 32px;\n",
              "      padding: 0 0 0 0;\n",
              "      width: 32px;\n",
              "    }\n",
              "\n",
              "    .colab-df-convert:hover {\n",
              "      background-color: #E2EBFA;\n",
              "      box-shadow: 0px 1px 2px rgba(60, 64, 67, 0.3), 0px 1px 3px 1px rgba(60, 64, 67, 0.15);\n",
              "      fill: #174EA6;\n",
              "    }\n",
              "\n",
              "    .colab-df-buttons div {\n",
              "      margin-bottom: 4px;\n",
              "    }\n",
              "\n",
              "    [theme=dark] .colab-df-convert {\n",
              "      background-color: #3B4455;\n",
              "      fill: #D2E3FC;\n",
              "    }\n",
              "\n",
              "    [theme=dark] .colab-df-convert:hover {\n",
              "      background-color: #434B5C;\n",
              "      box-shadow: 0px 1px 3px 1px rgba(0, 0, 0, 0.15);\n",
              "      filter: drop-shadow(0px 1px 2px rgba(0, 0, 0, 0.3));\n",
              "      fill: #FFFFFF;\n",
              "    }\n",
              "  </style>\n",
              "\n",
              "    <script>\n",
              "      const buttonEl =\n",
              "        document.querySelector('#df-8a582fa1-d842-4f14-8317-4a8efbb98c5e button.colab-df-convert');\n",
              "      buttonEl.style.display =\n",
              "        google.colab.kernel.accessAllowed ? 'block' : 'none';\n",
              "\n",
              "      async function convertToInteractive(key) {\n",
              "        const element = document.querySelector('#df-8a582fa1-d842-4f14-8317-4a8efbb98c5e');\n",
              "        const dataTable =\n",
              "          await google.colab.kernel.invokeFunction('convertToInteractive',\n",
              "                                                    [key], {});\n",
              "        if (!dataTable) return;\n",
              "\n",
              "        const docLinkHtml = 'Like what you see? Visit the ' +\n",
              "          '<a target=\"_blank\" href=https://colab.research.google.com/notebooks/data_table.ipynb>data table notebook</a>'\n",
              "          + ' to learn more about interactive tables.';\n",
              "        element.innerHTML = '';\n",
              "        dataTable['output_type'] = 'display_data';\n",
              "        await google.colab.output.renderOutput(dataTable, element);\n",
              "        const docLink = document.createElement('div');\n",
              "        docLink.innerHTML = docLinkHtml;\n",
              "        element.appendChild(docLink);\n",
              "      }\n",
              "    </script>\n",
              "  </div>\n",
              "\n",
              "\n",
              "<div id=\"df-3e35386c-f4c4-48b4-8797-e76eda6247ba\">\n",
              "  <button class=\"colab-df-quickchart\" onclick=\"quickchart('df-3e35386c-f4c4-48b4-8797-e76eda6247ba')\"\n",
              "            title=\"Suggest charts\"\n",
              "            style=\"display:none;\">\n",
              "\n",
              "<svg xmlns=\"http://www.w3.org/2000/svg\" height=\"24px\"viewBox=\"0 0 24 24\"\n",
              "     width=\"24px\">\n",
              "    <g>\n",
              "        <path d=\"M19 3H5c-1.1 0-2 .9-2 2v14c0 1.1.9 2 2 2h14c1.1 0 2-.9 2-2V5c0-1.1-.9-2-2-2zM9 17H7v-7h2v7zm4 0h-2V7h2v10zm4 0h-2v-4h2v4z\"/>\n",
              "    </g>\n",
              "</svg>\n",
              "  </button>\n",
              "\n",
              "<style>\n",
              "  .colab-df-quickchart {\n",
              "      --bg-color: #E8F0FE;\n",
              "      --fill-color: #1967D2;\n",
              "      --hover-bg-color: #E2EBFA;\n",
              "      --hover-fill-color: #174EA6;\n",
              "      --disabled-fill-color: #AAA;\n",
              "      --disabled-bg-color: #DDD;\n",
              "  }\n",
              "\n",
              "  [theme=dark] .colab-df-quickchart {\n",
              "      --bg-color: #3B4455;\n",
              "      --fill-color: #D2E3FC;\n",
              "      --hover-bg-color: #434B5C;\n",
              "      --hover-fill-color: #FFFFFF;\n",
              "      --disabled-bg-color: #3B4455;\n",
              "      --disabled-fill-color: #666;\n",
              "  }\n",
              "\n",
              "  .colab-df-quickchart {\n",
              "    background-color: var(--bg-color);\n",
              "    border: none;\n",
              "    border-radius: 50%;\n",
              "    cursor: pointer;\n",
              "    display: none;\n",
              "    fill: var(--fill-color);\n",
              "    height: 32px;\n",
              "    padding: 0;\n",
              "    width: 32px;\n",
              "  }\n",
              "\n",
              "  .colab-df-quickchart:hover {\n",
              "    background-color: var(--hover-bg-color);\n",
              "    box-shadow: 0 1px 2px rgba(60, 64, 67, 0.3), 0 1px 3px 1px rgba(60, 64, 67, 0.15);\n",
              "    fill: var(--button-hover-fill-color);\n",
              "  }\n",
              "\n",
              "  .colab-df-quickchart-complete:disabled,\n",
              "  .colab-df-quickchart-complete:disabled:hover {\n",
              "    background-color: var(--disabled-bg-color);\n",
              "    fill: var(--disabled-fill-color);\n",
              "    box-shadow: none;\n",
              "  }\n",
              "\n",
              "  .colab-df-spinner {\n",
              "    border: 2px solid var(--fill-color);\n",
              "    border-color: transparent;\n",
              "    border-bottom-color: var(--fill-color);\n",
              "    animation:\n",
              "      spin 1s steps(1) infinite;\n",
              "  }\n",
              "\n",
              "  @keyframes spin {\n",
              "    0% {\n",
              "      border-color: transparent;\n",
              "      border-bottom-color: var(--fill-color);\n",
              "      border-left-color: var(--fill-color);\n",
              "    }\n",
              "    20% {\n",
              "      border-color: transparent;\n",
              "      border-left-color: var(--fill-color);\n",
              "      border-top-color: var(--fill-color);\n",
              "    }\n",
              "    30% {\n",
              "      border-color: transparent;\n",
              "      border-left-color: var(--fill-color);\n",
              "      border-top-color: var(--fill-color);\n",
              "      border-right-color: var(--fill-color);\n",
              "    }\n",
              "    40% {\n",
              "      border-color: transparent;\n",
              "      border-right-color: var(--fill-color);\n",
              "      border-top-color: var(--fill-color);\n",
              "    }\n",
              "    60% {\n",
              "      border-color: transparent;\n",
              "      border-right-color: var(--fill-color);\n",
              "    }\n",
              "    80% {\n",
              "      border-color: transparent;\n",
              "      border-right-color: var(--fill-color);\n",
              "      border-bottom-color: var(--fill-color);\n",
              "    }\n",
              "    90% {\n",
              "      border-color: transparent;\n",
              "      border-bottom-color: var(--fill-color);\n",
              "    }\n",
              "  }\n",
              "</style>\n",
              "\n",
              "  <script>\n",
              "    async function quickchart(key) {\n",
              "      const quickchartButtonEl =\n",
              "        document.querySelector('#' + key + ' button');\n",
              "      quickchartButtonEl.disabled = true;  // To prevent multiple clicks.\n",
              "      quickchartButtonEl.classList.add('colab-df-spinner');\n",
              "      try {\n",
              "        const charts = await google.colab.kernel.invokeFunction(\n",
              "            'suggestCharts', [key], {});\n",
              "      } catch (error) {\n",
              "        console.error('Error during call to suggestCharts:', error);\n",
              "      }\n",
              "      quickchartButtonEl.classList.remove('colab-df-spinner');\n",
              "      quickchartButtonEl.classList.add('colab-df-quickchart-complete');\n",
              "    }\n",
              "    (() => {\n",
              "      let quickchartButtonEl =\n",
              "        document.querySelector('#df-3e35386c-f4c4-48b4-8797-e76eda6247ba button');\n",
              "      quickchartButtonEl.style.display =\n",
              "        google.colab.kernel.accessAllowed ? 'block' : 'none';\n",
              "    })();\n",
              "  </script>\n",
              "</div>\n",
              "    </div>\n",
              "  </div>\n"
            ]
          },
          "metadata": {},
          "execution_count": 3
        }
      ]
    },
    {
      "cell_type": "markdown",
      "source": [
        "Seleccionamos las caracteristicas que en principio serian casi todas, para luego poder ver con cual nos quedaremos y con cuales no."
      ],
      "metadata": {
        "id": "l7AsfN6K64AK"
      }
    },
    {
      "cell_type": "code",
      "source": [
        "# Identificar características y variable objetivo\n",
        "features = ['danceability', 'energy', 'loudness', 'speechiness', 'acousticness', 'instrumentalness', 'liveness', 'valence', 'tempo', 'duration_ms', 'mode']\n",
        "X = data[features]\n",
        "y = data['target']\n",
        "\n",
        "#El eje X contendra las caracteristicas (datos), mientras que el eje y nuestros 'target'\n"
      ],
      "metadata": {
        "id": "yZqC5hI6c6cr"
      },
      "execution_count": null,
      "outputs": []
    },
    {
      "cell_type": "markdown",
      "source": [
        "Seleccion de las caracteristicas mas importantes:"
      ],
      "metadata": {
        "id": "cDFhRMXX9xOo"
      }
    },
    {
      "cell_type": "markdown",
      "source": [
        "Investigando formas de obtener las caracteristicas mas importantes para seleccionar y me den un porcentaje de prediccion mas alto, encontramos que  algunos algoritmos, como Random Forest, proporcionan una medida de la importancia de cada característica en la predicción. Se pueden acceder a estas puntuaciones de importancia de características para identificar las más relevantes."
      ],
      "metadata": {
        "id": "YlS-LR4h97uX"
      }
    },
    {
      "cell_type": "code",
      "source": [
        "from sklearn.ensemble import RandomForestClassifier\n",
        "\n",
        "#Entrenamos un clasificador de Random Forest\n",
        "clf = RandomForestClassifier()\n",
        "clf.fit(X, y)\n",
        "\n",
        "#Obtenemos la importancia de las características\n",
        "feature_importance = clf.feature_importances_\n",
        "relevant_features = pd.Series(feature_importance, index=features).sort_values(ascending=False)\n",
        "print(relevant_features)"
      ],
      "metadata": {
        "colab": {
          "base_uri": "https://localhost:8080/"
        },
        "id": "Cfj9BkG1lUCG",
        "outputId": "12368583-9632-4078-dd7c-71031e281245"
      },
      "execution_count": null,
      "outputs": [
        {
          "output_type": "stream",
          "name": "stdout",
          "text": [
            "instrumentalness    0.137444\n",
            "loudness            0.124488\n",
            "speechiness         0.109364\n",
            "energy              0.101803\n",
            "duration_ms         0.100987\n",
            "danceability        0.098322\n",
            "acousticness        0.091965\n",
            "valence             0.084238\n",
            "tempo               0.075773\n",
            "liveness            0.063543\n",
            "mode                0.012072\n",
            "dtype: float64\n"
          ]
        }
      ]
    },
    {
      "cell_type": "markdown",
      "source": [
        "Ademas, encontramos este método llamado Recursive Feature Elimination (RFE), de Scikit-Learn, y consiste en utilizar algoritmos que incorporan la selección de características, que las evalúa eliminando iterativamente aquellas menos importantes."
      ],
      "metadata": {
        "id": "MjByuJjvEg2t"
      }
    },
    {
      "cell_type": "code",
      "source": [
        "from sklearn.feature_selection import RFE\n",
        "\n",
        "# Modelo base (puedes usar cualquier modelo)\n",
        "model = RandomForestClassifier()\n",
        "\n",
        "# Inicializar RFE\n",
        "rfe = RFE(model, n_features_to_select=5)  # Elegir el número deseado de características\n",
        "\n",
        "# Ajustar RFE\n",
        "rfe.fit(X, y)\n",
        "\n",
        "# Obtener las características seleccionadas\n",
        "selected_features = X.columns[rfe.support_]"
      ],
      "metadata": {
        "id": "fSYeq7XXmS-x"
      },
      "execution_count": null,
      "outputs": []
    },
    {
      "cell_type": "code",
      "source": [
        "selected_features #aca vemos las caracteriscicas que selecciono, que coinciden bastante con lo que nos muestra random forest"
      ],
      "metadata": {
        "colab": {
          "base_uri": "https://localhost:8080/"
        },
        "id": "xfigpqdxmX32",
        "outputId": "ca08c5ea-d46b-4471-b392-8be1610d4193"
      },
      "execution_count": null,
      "outputs": [
        {
          "output_type": "execute_result",
          "data": {
            "text/plain": [
              "Index(['danceability', 'energy', 'loudness', 'speechiness',\n",
              "       'instrumentalness'],\n",
              "      dtype='object')"
            ]
          },
          "metadata": {},
          "execution_count": 13
        }
      ]
    },
    {
      "cell_type": "code",
      "source": [
        "X_selected = data[selected_features] #seleccionamos en X ahora solo a las caracteristicas filtradas previamente\n",
        "y = data['target']"
      ],
      "metadata": {
        "id": "F4TL4of5m_pl"
      },
      "execution_count": null,
      "outputs": []
    },
    {
      "cell_type": "code",
      "source": [],
      "metadata": {
        "id": "m7Ri6J85qmiU"
      },
      "execution_count": null,
      "outputs": []
    },
    {
      "cell_type": "code",
      "source": [
        "from sklearn.model_selection import train_test_split\n",
        "\n",
        "#Dividir los datos en conjuntos de entrenamiento y prueba\n",
        "X_train, X_test, y_train, y_test = train_test_split(X_selected, y, test_size=0.2, random_state=42)"
      ],
      "metadata": {
        "id": "W4P9n-_ArS3D"
      },
      "execution_count": null,
      "outputs": []
    },
    {
      "cell_type": "markdown",
      "source": [
        "Una vez seleccionadas las caracteristicas mas relevantes, y haber dividido los datos de entrenamiento y de prueba, empezamos a probar los distintos clasificadores, en primer lugar, utilizaremos KNN (El vecino mas cercano)."
      ],
      "metadata": {
        "id": "P3L3OmNTHTPe"
      }
    },
    {
      "cell_type": "code",
      "source": [
        "from sklearn.neighbors import KNeighborsClassifier\n",
        "\n",
        "# Crear un nuevo modelo KNN\n",
        "knn_selected_features = KNeighborsClassifier()\n",
        "\n",
        "# Entrenar el modelo con las características seleccionadas\n",
        "knn_selected_features.fit(X_train, y_train)"
      ],
      "metadata": {
        "colab": {
          "base_uri": "https://localhost:8080/",
          "height": 75
        },
        "id": "udJzE0jErYn5",
        "outputId": "a9193f86-ba2e-4776-e7d6-3e3173c2355e"
      },
      "execution_count": null,
      "outputs": [
        {
          "output_type": "execute_result",
          "data": {
            "text/plain": [
              "KNeighborsClassifier()"
            ],
            "text/html": [
              "<style>#sk-container-id-5 {color: black;background-color: white;}#sk-container-id-5 pre{padding: 0;}#sk-container-id-5 div.sk-toggleable {background-color: white;}#sk-container-id-5 label.sk-toggleable__label {cursor: pointer;display: block;width: 100%;margin-bottom: 0;padding: 0.3em;box-sizing: border-box;text-align: center;}#sk-container-id-5 label.sk-toggleable__label-arrow:before {content: \"▸\";float: left;margin-right: 0.25em;color: #696969;}#sk-container-id-5 label.sk-toggleable__label-arrow:hover:before {color: black;}#sk-container-id-5 div.sk-estimator:hover label.sk-toggleable__label-arrow:before {color: black;}#sk-container-id-5 div.sk-toggleable__content {max-height: 0;max-width: 0;overflow: hidden;text-align: left;background-color: #f0f8ff;}#sk-container-id-5 div.sk-toggleable__content pre {margin: 0.2em;color: black;border-radius: 0.25em;background-color: #f0f8ff;}#sk-container-id-5 input.sk-toggleable__control:checked~div.sk-toggleable__content {max-height: 200px;max-width: 100%;overflow: auto;}#sk-container-id-5 input.sk-toggleable__control:checked~label.sk-toggleable__label-arrow:before {content: \"▾\";}#sk-container-id-5 div.sk-estimator input.sk-toggleable__control:checked~label.sk-toggleable__label {background-color: #d4ebff;}#sk-container-id-5 div.sk-label input.sk-toggleable__control:checked~label.sk-toggleable__label {background-color: #d4ebff;}#sk-container-id-5 input.sk-hidden--visually {border: 0;clip: rect(1px 1px 1px 1px);clip: rect(1px, 1px, 1px, 1px);height: 1px;margin: -1px;overflow: hidden;padding: 0;position: absolute;width: 1px;}#sk-container-id-5 div.sk-estimator {font-family: monospace;background-color: #f0f8ff;border: 1px dotted black;border-radius: 0.25em;box-sizing: border-box;margin-bottom: 0.5em;}#sk-container-id-5 div.sk-estimator:hover {background-color: #d4ebff;}#sk-container-id-5 div.sk-parallel-item::after {content: \"\";width: 100%;border-bottom: 1px solid gray;flex-grow: 1;}#sk-container-id-5 div.sk-label:hover label.sk-toggleable__label {background-color: #d4ebff;}#sk-container-id-5 div.sk-serial::before {content: \"\";position: absolute;border-left: 1px solid gray;box-sizing: border-box;top: 0;bottom: 0;left: 50%;z-index: 0;}#sk-container-id-5 div.sk-serial {display: flex;flex-direction: column;align-items: center;background-color: white;padding-right: 0.2em;padding-left: 0.2em;position: relative;}#sk-container-id-5 div.sk-item {position: relative;z-index: 1;}#sk-container-id-5 div.sk-parallel {display: flex;align-items: stretch;justify-content: center;background-color: white;position: relative;}#sk-container-id-5 div.sk-item::before, #sk-container-id-5 div.sk-parallel-item::before {content: \"\";position: absolute;border-left: 1px solid gray;box-sizing: border-box;top: 0;bottom: 0;left: 50%;z-index: -1;}#sk-container-id-5 div.sk-parallel-item {display: flex;flex-direction: column;z-index: 1;position: relative;background-color: white;}#sk-container-id-5 div.sk-parallel-item:first-child::after {align-self: flex-end;width: 50%;}#sk-container-id-5 div.sk-parallel-item:last-child::after {align-self: flex-start;width: 50%;}#sk-container-id-5 div.sk-parallel-item:only-child::after {width: 0;}#sk-container-id-5 div.sk-dashed-wrapped {border: 1px dashed gray;margin: 0 0.4em 0.5em 0.4em;box-sizing: border-box;padding-bottom: 0.4em;background-color: white;}#sk-container-id-5 div.sk-label label {font-family: monospace;font-weight: bold;display: inline-block;line-height: 1.2em;}#sk-container-id-5 div.sk-label-container {text-align: center;}#sk-container-id-5 div.sk-container {/* jupyter's `normalize.less` sets `[hidden] { display: none; }` but bootstrap.min.css set `[hidden] { display: none !important; }` so we also need the `!important` here to be able to override the default hidden behavior on the sphinx rendered scikit-learn.org. See: https://github.com/scikit-learn/scikit-learn/issues/21755 */display: inline-block !important;position: relative;}#sk-container-id-5 div.sk-text-repr-fallback {display: none;}</style><div id=\"sk-container-id-5\" class=\"sk-top-container\"><div class=\"sk-text-repr-fallback\"><pre>KNeighborsClassifier()</pre><b>In a Jupyter environment, please rerun this cell to show the HTML representation or trust the notebook. <br />On GitHub, the HTML representation is unable to render, please try loading this page with nbviewer.org.</b></div><div class=\"sk-container\" hidden><div class=\"sk-item\"><div class=\"sk-estimator sk-toggleable\"><input class=\"sk-toggleable__control sk-hidden--visually\" id=\"sk-estimator-id-5\" type=\"checkbox\" checked><label for=\"sk-estimator-id-5\" class=\"sk-toggleable__label sk-toggleable__label-arrow\">KNeighborsClassifier</label><div class=\"sk-toggleable__content\"><pre>KNeighborsClassifier()</pre></div></div></div></div></div>"
            ]
          },
          "metadata": {},
          "execution_count": 45
        }
      ]
    },
    {
      "cell_type": "markdown",
      "source": [
        "\n",
        "\n",
        "---\n",
        "\n"
      ],
      "metadata": {
        "id": "ljobCbcNRzCv"
      }
    },
    {
      "cell_type": "markdown",
      "source": [
        "SVM(SUPPORT VECTOR MACHINE)"
      ],
      "metadata": {
        "id": "yoIa1XBsRufL"
      }
    },
    {
      "cell_type": "code",
      "source": [
        "from sklearn.svm import SVC\n",
        "\n",
        "\n",
        "\n",
        "\n",
        "X_train, X_test, y_train, y_test = train_test_split(X_selected, y, test_size=0.2, random_state=42)\n",
        "\n",
        "# Inicializar y entrenar un modelo SVM\n",
        "svm_model = SVC(kernel='rbf', C=1.0, gamma='scale')  # Puedes ajustar los hiperparámetros\n",
        "svm_model.fit(X_train, y_train)\n"
      ],
      "metadata": {
        "colab": {
          "base_uri": "https://localhost:8080/",
          "height": 75
        },
        "id": "KNJAmcixLtiz",
        "outputId": "d475fca5-4836-45b0-a169-1b290e1c4e0e"
      },
      "execution_count": null,
      "outputs": [
        {
          "output_type": "execute_result",
          "data": {
            "text/plain": [
              "SVC()"
            ],
            "text/html": [
              "<style>#sk-container-id-6 {color: black;background-color: white;}#sk-container-id-6 pre{padding: 0;}#sk-container-id-6 div.sk-toggleable {background-color: white;}#sk-container-id-6 label.sk-toggleable__label {cursor: pointer;display: block;width: 100%;margin-bottom: 0;padding: 0.3em;box-sizing: border-box;text-align: center;}#sk-container-id-6 label.sk-toggleable__label-arrow:before {content: \"▸\";float: left;margin-right: 0.25em;color: #696969;}#sk-container-id-6 label.sk-toggleable__label-arrow:hover:before {color: black;}#sk-container-id-6 div.sk-estimator:hover label.sk-toggleable__label-arrow:before {color: black;}#sk-container-id-6 div.sk-toggleable__content {max-height: 0;max-width: 0;overflow: hidden;text-align: left;background-color: #f0f8ff;}#sk-container-id-6 div.sk-toggleable__content pre {margin: 0.2em;color: black;border-radius: 0.25em;background-color: #f0f8ff;}#sk-container-id-6 input.sk-toggleable__control:checked~div.sk-toggleable__content {max-height: 200px;max-width: 100%;overflow: auto;}#sk-container-id-6 input.sk-toggleable__control:checked~label.sk-toggleable__label-arrow:before {content: \"▾\";}#sk-container-id-6 div.sk-estimator input.sk-toggleable__control:checked~label.sk-toggleable__label {background-color: #d4ebff;}#sk-container-id-6 div.sk-label input.sk-toggleable__control:checked~label.sk-toggleable__label {background-color: #d4ebff;}#sk-container-id-6 input.sk-hidden--visually {border: 0;clip: rect(1px 1px 1px 1px);clip: rect(1px, 1px, 1px, 1px);height: 1px;margin: -1px;overflow: hidden;padding: 0;position: absolute;width: 1px;}#sk-container-id-6 div.sk-estimator {font-family: monospace;background-color: #f0f8ff;border: 1px dotted black;border-radius: 0.25em;box-sizing: border-box;margin-bottom: 0.5em;}#sk-container-id-6 div.sk-estimator:hover {background-color: #d4ebff;}#sk-container-id-6 div.sk-parallel-item::after {content: \"\";width: 100%;border-bottom: 1px solid gray;flex-grow: 1;}#sk-container-id-6 div.sk-label:hover label.sk-toggleable__label {background-color: #d4ebff;}#sk-container-id-6 div.sk-serial::before {content: \"\";position: absolute;border-left: 1px solid gray;box-sizing: border-box;top: 0;bottom: 0;left: 50%;z-index: 0;}#sk-container-id-6 div.sk-serial {display: flex;flex-direction: column;align-items: center;background-color: white;padding-right: 0.2em;padding-left: 0.2em;position: relative;}#sk-container-id-6 div.sk-item {position: relative;z-index: 1;}#sk-container-id-6 div.sk-parallel {display: flex;align-items: stretch;justify-content: center;background-color: white;position: relative;}#sk-container-id-6 div.sk-item::before, #sk-container-id-6 div.sk-parallel-item::before {content: \"\";position: absolute;border-left: 1px solid gray;box-sizing: border-box;top: 0;bottom: 0;left: 50%;z-index: -1;}#sk-container-id-6 div.sk-parallel-item {display: flex;flex-direction: column;z-index: 1;position: relative;background-color: white;}#sk-container-id-6 div.sk-parallel-item:first-child::after {align-self: flex-end;width: 50%;}#sk-container-id-6 div.sk-parallel-item:last-child::after {align-self: flex-start;width: 50%;}#sk-container-id-6 div.sk-parallel-item:only-child::after {width: 0;}#sk-container-id-6 div.sk-dashed-wrapped {border: 1px dashed gray;margin: 0 0.4em 0.5em 0.4em;box-sizing: border-box;padding-bottom: 0.4em;background-color: white;}#sk-container-id-6 div.sk-label label {font-family: monospace;font-weight: bold;display: inline-block;line-height: 1.2em;}#sk-container-id-6 div.sk-label-container {text-align: center;}#sk-container-id-6 div.sk-container {/* jupyter's `normalize.less` sets `[hidden] { display: none; }` but bootstrap.min.css set `[hidden] { display: none !important; }` so we also need the `!important` here to be able to override the default hidden behavior on the sphinx rendered scikit-learn.org. See: https://github.com/scikit-learn/scikit-learn/issues/21755 */display: inline-block !important;position: relative;}#sk-container-id-6 div.sk-text-repr-fallback {display: none;}</style><div id=\"sk-container-id-6\" class=\"sk-top-container\"><div class=\"sk-text-repr-fallback\"><pre>SVC()</pre><b>In a Jupyter environment, please rerun this cell to show the HTML representation or trust the notebook. <br />On GitHub, the HTML representation is unable to render, please try loading this page with nbviewer.org.</b></div><div class=\"sk-container\" hidden><div class=\"sk-item\"><div class=\"sk-estimator sk-toggleable\"><input class=\"sk-toggleable__control sk-hidden--visually\" id=\"sk-estimator-id-6\" type=\"checkbox\" checked><label for=\"sk-estimator-id-6\" class=\"sk-toggleable__label sk-toggleable__label-arrow\">SVC</label><div class=\"sk-toggleable__content\"><pre>SVC()</pre></div></div></div></div></div>"
            ]
          },
          "metadata": {},
          "execution_count": 48
        }
      ]
    },
    {
      "cell_type": "markdown",
      "source": [
        "\n",
        "\n",
        "---\n",
        "\n"
      ],
      "metadata": {
        "id": "3uwnn9D0R3Uy"
      }
    },
    {
      "cell_type": "markdown",
      "source": [
        "Arbol de decision."
      ],
      "metadata": {
        "id": "_q41-zaER4xn"
      }
    },
    {
      "cell_type": "code",
      "source": [
        "from sklearn.tree import DecisionTreeClassifier\n",
        "\n",
        "# Crear el modelo de Árbol de decisión\n",
        "decision_tree = DecisionTreeClassifier()\n",
        "\n",
        "# Entrenar el modelo\n",
        "decision_tree.fit(X_train, y_train)"
      ],
      "metadata": {
        "colab": {
          "base_uri": "https://localhost:8080/",
          "height": 75
        },
        "id": "g5P8n9QGMXCY",
        "outputId": "3167d5b0-df4d-453d-ba7c-fb01e1df1640"
      },
      "execution_count": null,
      "outputs": [
        {
          "output_type": "execute_result",
          "data": {
            "text/plain": [
              "DecisionTreeClassifier()"
            ],
            "text/html": [
              "<style>#sk-container-id-7 {color: black;background-color: white;}#sk-container-id-7 pre{padding: 0;}#sk-container-id-7 div.sk-toggleable {background-color: white;}#sk-container-id-7 label.sk-toggleable__label {cursor: pointer;display: block;width: 100%;margin-bottom: 0;padding: 0.3em;box-sizing: border-box;text-align: center;}#sk-container-id-7 label.sk-toggleable__label-arrow:before {content: \"▸\";float: left;margin-right: 0.25em;color: #696969;}#sk-container-id-7 label.sk-toggleable__label-arrow:hover:before {color: black;}#sk-container-id-7 div.sk-estimator:hover label.sk-toggleable__label-arrow:before {color: black;}#sk-container-id-7 div.sk-toggleable__content {max-height: 0;max-width: 0;overflow: hidden;text-align: left;background-color: #f0f8ff;}#sk-container-id-7 div.sk-toggleable__content pre {margin: 0.2em;color: black;border-radius: 0.25em;background-color: #f0f8ff;}#sk-container-id-7 input.sk-toggleable__control:checked~div.sk-toggleable__content {max-height: 200px;max-width: 100%;overflow: auto;}#sk-container-id-7 input.sk-toggleable__control:checked~label.sk-toggleable__label-arrow:before {content: \"▾\";}#sk-container-id-7 div.sk-estimator input.sk-toggleable__control:checked~label.sk-toggleable__label {background-color: #d4ebff;}#sk-container-id-7 div.sk-label input.sk-toggleable__control:checked~label.sk-toggleable__label {background-color: #d4ebff;}#sk-container-id-7 input.sk-hidden--visually {border: 0;clip: rect(1px 1px 1px 1px);clip: rect(1px, 1px, 1px, 1px);height: 1px;margin: -1px;overflow: hidden;padding: 0;position: absolute;width: 1px;}#sk-container-id-7 div.sk-estimator {font-family: monospace;background-color: #f0f8ff;border: 1px dotted black;border-radius: 0.25em;box-sizing: border-box;margin-bottom: 0.5em;}#sk-container-id-7 div.sk-estimator:hover {background-color: #d4ebff;}#sk-container-id-7 div.sk-parallel-item::after {content: \"\";width: 100%;border-bottom: 1px solid gray;flex-grow: 1;}#sk-container-id-7 div.sk-label:hover label.sk-toggleable__label {background-color: #d4ebff;}#sk-container-id-7 div.sk-serial::before {content: \"\";position: absolute;border-left: 1px solid gray;box-sizing: border-box;top: 0;bottom: 0;left: 50%;z-index: 0;}#sk-container-id-7 div.sk-serial {display: flex;flex-direction: column;align-items: center;background-color: white;padding-right: 0.2em;padding-left: 0.2em;position: relative;}#sk-container-id-7 div.sk-item {position: relative;z-index: 1;}#sk-container-id-7 div.sk-parallel {display: flex;align-items: stretch;justify-content: center;background-color: white;position: relative;}#sk-container-id-7 div.sk-item::before, #sk-container-id-7 div.sk-parallel-item::before {content: \"\";position: absolute;border-left: 1px solid gray;box-sizing: border-box;top: 0;bottom: 0;left: 50%;z-index: -1;}#sk-container-id-7 div.sk-parallel-item {display: flex;flex-direction: column;z-index: 1;position: relative;background-color: white;}#sk-container-id-7 div.sk-parallel-item:first-child::after {align-self: flex-end;width: 50%;}#sk-container-id-7 div.sk-parallel-item:last-child::after {align-self: flex-start;width: 50%;}#sk-container-id-7 div.sk-parallel-item:only-child::after {width: 0;}#sk-container-id-7 div.sk-dashed-wrapped {border: 1px dashed gray;margin: 0 0.4em 0.5em 0.4em;box-sizing: border-box;padding-bottom: 0.4em;background-color: white;}#sk-container-id-7 div.sk-label label {font-family: monospace;font-weight: bold;display: inline-block;line-height: 1.2em;}#sk-container-id-7 div.sk-label-container {text-align: center;}#sk-container-id-7 div.sk-container {/* jupyter's `normalize.less` sets `[hidden] { display: none; }` but bootstrap.min.css set `[hidden] { display: none !important; }` so we also need the `!important` here to be able to override the default hidden behavior on the sphinx rendered scikit-learn.org. See: https://github.com/scikit-learn/scikit-learn/issues/21755 */display: inline-block !important;position: relative;}#sk-container-id-7 div.sk-text-repr-fallback {display: none;}</style><div id=\"sk-container-id-7\" class=\"sk-top-container\"><div class=\"sk-text-repr-fallback\"><pre>DecisionTreeClassifier()</pre><b>In a Jupyter environment, please rerun this cell to show the HTML representation or trust the notebook. <br />On GitHub, the HTML representation is unable to render, please try loading this page with nbviewer.org.</b></div><div class=\"sk-container\" hidden><div class=\"sk-item\"><div class=\"sk-estimator sk-toggleable\"><input class=\"sk-toggleable__control sk-hidden--visually\" id=\"sk-estimator-id-7\" type=\"checkbox\" checked><label for=\"sk-estimator-id-7\" class=\"sk-toggleable__label sk-toggleable__label-arrow\">DecisionTreeClassifier</label><div class=\"sk-toggleable__content\"><pre>DecisionTreeClassifier()</pre></div></div></div></div></div>"
            ]
          },
          "metadata": {},
          "execution_count": 49
        }
      ]
    },
    {
      "cell_type": "markdown",
      "source": [
        "\n",
        "\n",
        "---\n",
        "\n"
      ],
      "metadata": {
        "id": "1RRjKqFjSB6G"
      }
    },
    {
      "cell_type": "markdown",
      "source": [
        "Naive Bayes."
      ],
      "metadata": {
        "id": "rIRu5TdySEZ8"
      }
    },
    {
      "cell_type": "code",
      "source": [
        "from sklearn.naive_bayes import GaussianNB\n",
        "\n",
        "# Crear el modelo Naive Bayes\n",
        "naive_bayes = GaussianNB()\n",
        "\n",
        "# Entrenar el modelo\n",
        "naive_bayes.fit(X_train, y_train)"
      ],
      "metadata": {
        "colab": {
          "base_uri": "https://localhost:8080/",
          "height": 75
        },
        "id": "tJXjqUDvMW9e",
        "outputId": "2e925e57-867b-41f3-c9b5-06fa480b346a"
      },
      "execution_count": null,
      "outputs": [
        {
          "output_type": "execute_result",
          "data": {
            "text/plain": [
              "GaussianNB()"
            ],
            "text/html": [
              "<style>#sk-container-id-8 {color: black;background-color: white;}#sk-container-id-8 pre{padding: 0;}#sk-container-id-8 div.sk-toggleable {background-color: white;}#sk-container-id-8 label.sk-toggleable__label {cursor: pointer;display: block;width: 100%;margin-bottom: 0;padding: 0.3em;box-sizing: border-box;text-align: center;}#sk-container-id-8 label.sk-toggleable__label-arrow:before {content: \"▸\";float: left;margin-right: 0.25em;color: #696969;}#sk-container-id-8 label.sk-toggleable__label-arrow:hover:before {color: black;}#sk-container-id-8 div.sk-estimator:hover label.sk-toggleable__label-arrow:before {color: black;}#sk-container-id-8 div.sk-toggleable__content {max-height: 0;max-width: 0;overflow: hidden;text-align: left;background-color: #f0f8ff;}#sk-container-id-8 div.sk-toggleable__content pre {margin: 0.2em;color: black;border-radius: 0.25em;background-color: #f0f8ff;}#sk-container-id-8 input.sk-toggleable__control:checked~div.sk-toggleable__content {max-height: 200px;max-width: 100%;overflow: auto;}#sk-container-id-8 input.sk-toggleable__control:checked~label.sk-toggleable__label-arrow:before {content: \"▾\";}#sk-container-id-8 div.sk-estimator input.sk-toggleable__control:checked~label.sk-toggleable__label {background-color: #d4ebff;}#sk-container-id-8 div.sk-label input.sk-toggleable__control:checked~label.sk-toggleable__label {background-color: #d4ebff;}#sk-container-id-8 input.sk-hidden--visually {border: 0;clip: rect(1px 1px 1px 1px);clip: rect(1px, 1px, 1px, 1px);height: 1px;margin: -1px;overflow: hidden;padding: 0;position: absolute;width: 1px;}#sk-container-id-8 div.sk-estimator {font-family: monospace;background-color: #f0f8ff;border: 1px dotted black;border-radius: 0.25em;box-sizing: border-box;margin-bottom: 0.5em;}#sk-container-id-8 div.sk-estimator:hover {background-color: #d4ebff;}#sk-container-id-8 div.sk-parallel-item::after {content: \"\";width: 100%;border-bottom: 1px solid gray;flex-grow: 1;}#sk-container-id-8 div.sk-label:hover label.sk-toggleable__label {background-color: #d4ebff;}#sk-container-id-8 div.sk-serial::before {content: \"\";position: absolute;border-left: 1px solid gray;box-sizing: border-box;top: 0;bottom: 0;left: 50%;z-index: 0;}#sk-container-id-8 div.sk-serial {display: flex;flex-direction: column;align-items: center;background-color: white;padding-right: 0.2em;padding-left: 0.2em;position: relative;}#sk-container-id-8 div.sk-item {position: relative;z-index: 1;}#sk-container-id-8 div.sk-parallel {display: flex;align-items: stretch;justify-content: center;background-color: white;position: relative;}#sk-container-id-8 div.sk-item::before, #sk-container-id-8 div.sk-parallel-item::before {content: \"\";position: absolute;border-left: 1px solid gray;box-sizing: border-box;top: 0;bottom: 0;left: 50%;z-index: -1;}#sk-container-id-8 div.sk-parallel-item {display: flex;flex-direction: column;z-index: 1;position: relative;background-color: white;}#sk-container-id-8 div.sk-parallel-item:first-child::after {align-self: flex-end;width: 50%;}#sk-container-id-8 div.sk-parallel-item:last-child::after {align-self: flex-start;width: 50%;}#sk-container-id-8 div.sk-parallel-item:only-child::after {width: 0;}#sk-container-id-8 div.sk-dashed-wrapped {border: 1px dashed gray;margin: 0 0.4em 0.5em 0.4em;box-sizing: border-box;padding-bottom: 0.4em;background-color: white;}#sk-container-id-8 div.sk-label label {font-family: monospace;font-weight: bold;display: inline-block;line-height: 1.2em;}#sk-container-id-8 div.sk-label-container {text-align: center;}#sk-container-id-8 div.sk-container {/* jupyter's `normalize.less` sets `[hidden] { display: none; }` but bootstrap.min.css set `[hidden] { display: none !important; }` so we also need the `!important` here to be able to override the default hidden behavior on the sphinx rendered scikit-learn.org. See: https://github.com/scikit-learn/scikit-learn/issues/21755 */display: inline-block !important;position: relative;}#sk-container-id-8 div.sk-text-repr-fallback {display: none;}</style><div id=\"sk-container-id-8\" class=\"sk-top-container\"><div class=\"sk-text-repr-fallback\"><pre>GaussianNB()</pre><b>In a Jupyter environment, please rerun this cell to show the HTML representation or trust the notebook. <br />On GitHub, the HTML representation is unable to render, please try loading this page with nbviewer.org.</b></div><div class=\"sk-container\" hidden><div class=\"sk-item\"><div class=\"sk-estimator sk-toggleable\"><input class=\"sk-toggleable__control sk-hidden--visually\" id=\"sk-estimator-id-8\" type=\"checkbox\" checked><label for=\"sk-estimator-id-8\" class=\"sk-toggleable__label sk-toggleable__label-arrow\">GaussianNB</label><div class=\"sk-toggleable__content\"><pre>GaussianNB()</pre></div></div></div></div></div>"
            ]
          },
          "metadata": {},
          "execution_count": 50
        }
      ]
    },
    {
      "cell_type": "markdown",
      "source": [
        "\n",
        "\n",
        "---\n",
        "\n"
      ],
      "metadata": {
        "id": "x7xRui6sSi6_"
      }
    },
    {
      "cell_type": "markdown",
      "source": [
        "Una vez entrenados todos los modelos, prodecemos a evaluar el rendimiento de cada uno."
      ],
      "metadata": {
        "id": "fjuoTtFLSUCB"
      }
    },
    {
      "cell_type": "code",
      "source": [
        "from sklearn.metrics import accuracy_score, confusion_matrix, classification_report\n",
        "\n",
        "# Evaluación para KNN\n",
        "knn_predictions = knn_selected_features.predict(X_test)\n",
        "print(\"Accuracy (KNN):\", accuracy_score(y_test, knn_predictions))\n",
        "print(\"Confusion Matrix (KNN):\")\n",
        "print(confusion_matrix(y_test, knn_predictions))\n",
        "print(\"Classification Report (KNN):\")\n",
        "print(classification_report(y_test, knn_predictions))"
      ],
      "metadata": {
        "colab": {
          "base_uri": "https://localhost:8080/"
        },
        "id": "6JTNhGezN7tX",
        "outputId": "e19ea95f-2f22-4b35-f1e7-c1407ff0d73a"
      },
      "execution_count": null,
      "outputs": [
        {
          "output_type": "stream",
          "name": "stdout",
          "text": [
            "Accuracy (KNN): 0.6658415841584159\n",
            "Confusion Matrix (KNN):\n",
            "[[145  61]\n",
            " [ 74 124]]\n",
            "Classification Report (KNN):\n",
            "              precision    recall  f1-score   support\n",
            "\n",
            "           0       0.66      0.70      0.68       206\n",
            "           1       0.67      0.63      0.65       198\n",
            "\n",
            "    accuracy                           0.67       404\n",
            "   macro avg       0.67      0.67      0.66       404\n",
            "weighted avg       0.67      0.67      0.67       404\n",
            "\n"
          ]
        }
      ]
    },
    {
      "cell_type": "code",
      "source": [
        "cm = confusion_matrix(y_test, knn_predictions)\n",
        "\n",
        "#Graficamos la matriz de confusion\n",
        "plt.figure(figsize=(8, 6))\n",
        "sns.heatmap(cm, annot=True, fmt='d', cmap='Blues')\n",
        "plt.title('Matriz de Confusión - KNN ')\n",
        "plt.xlabel('Predicho')\n",
        "plt.ylabel('Real')\n",
        "plt.show()"
      ],
      "metadata": {
        "colab": {
          "base_uri": "https://localhost:8080/",
          "height": 564
        },
        "id": "Xrvs61xR0Y1p",
        "outputId": "3e286f36-c3f6-4d1d-c7c4-9000a1a6aa28"
      },
      "execution_count": null,
      "outputs": [
        {
          "output_type": "display_data",
          "data": {
            "text/plain": [
              "<Figure size 800x600 with 2 Axes>"
            ],
            "image/png": "[encoded data removed]"
          },
          "metadata": {}
        }
      ]
    },
    {
      "cell_type": "code",
      "source": [
        "# Evaluación para SVM\n",
        "svm_predictions = svm_model.predict(X_test)\n",
        "print(\"Accuracy (SVM):\", accuracy_score(y_test, svm_predictions))\n",
        "print(\"Confusion Matrix (SVM):\")\n",
        "print(confusion_matrix(y_test, svm_predictions))\n",
        "print(\"Classification Report (SVM):\")\n",
        "print(classification_report(y_test, svm_predictions))"
      ],
      "metadata": {
        "colab": {
          "base_uri": "https://localhost:8080/"
        },
        "id": "DhFT-eDHN7nH",
        "outputId": "302cee59-37b0-4b69-e25f-16e0e949f71c"
      },
      "execution_count": null,
      "outputs": [
        {
          "output_type": "stream",
          "name": "stdout",
          "text": [
            "Accuracy (SVM): 0.655940594059406\n",
            "Confusion Matrix (SVM):\n",
            "[[148  58]\n",
            " [ 81 117]]\n",
            "Classification Report (SVM):\n",
            "              precision    recall  f1-score   support\n",
            "\n",
            "           0       0.65      0.72      0.68       206\n",
            "           1       0.67      0.59      0.63       198\n",
            "\n",
            "    accuracy                           0.66       404\n",
            "   macro avg       0.66      0.65      0.65       404\n",
            "weighted avg       0.66      0.66      0.65       404\n",
            "\n"
          ]
        }
      ]
    },
    {
      "cell_type": "code",
      "source": [
        "cm_svm = confusion_matrix(y_test, svm_predictions)\n",
        "\n",
        "#Graficamos la matriz de confusion\n",
        "plt.figure(figsize=(8, 6))\n",
        "sns.heatmap(cm_svm, annot=True, fmt='d', cmap='Blues')\n",
        "plt.title('Matriz de Confusión - SVM ')\n",
        "plt.xlabel('Predicho')\n",
        "plt.ylabel('Real')\n",
        "plt.show()"
      ],
      "metadata": {
        "colab": {
          "base_uri": "https://localhost:8080/",
          "height": 564
        },
        "id": "RLW5CsNDN7jF",
        "outputId": "a9e8c74b-b85b-409d-f38d-eb7a6549dd91"
      },
      "execution_count": null,
      "outputs": [
        {
          "output_type": "display_data",
          "data": {
            "text/plain": [
              "<Figure size 800x600 with 2 Axes>"
            ],
            "image/png": "[encoded data removed]"
          },
          "metadata": {}
        }
      ]
    },
    {
      "cell_type": "code",
      "source": [
        "# Evaluación para Arbol de decision\n",
        "decision_tree_predictions = decision_tree.predict(X_test)\n",
        "print(\"Accuracy (ARBOL DECISION):\", accuracy_score(y_test, decision_tree_predictions))\n",
        "print(\"Confusion Matrix (ARBOL DECISION):\")\n",
        "print(confusion_matrix(y_test, decision_tree_predictions))\n",
        "print(\"Classification Report (ARBOL DECISION):\")\n",
        "print(classification_report(y_test, decision_tree_predictions))"
      ],
      "metadata": {
        "colab": {
          "base_uri": "https://localhost:8080/"
        },
        "id": "K7Qsn6owN7ft",
        "outputId": "bb945883-e729-46cd-df27-10363b890da0"
      },
      "execution_count": null,
      "outputs": [
        {
          "output_type": "stream",
          "name": "stdout",
          "text": [
            "Accuracy (ARBOL DECISION): 0.6435643564356436\n",
            "Confusion Matrix (ARBOL DECISION):\n",
            "[[132  74]\n",
            " [ 70 128]]\n",
            "Classification Report (ARBOL DECISION):\n",
            "              precision    recall  f1-score   support\n",
            "\n",
            "           0       0.65      0.64      0.65       206\n",
            "           1       0.63      0.65      0.64       198\n",
            "\n",
            "    accuracy                           0.64       404\n",
            "   macro avg       0.64      0.64      0.64       404\n",
            "weighted avg       0.64      0.64      0.64       404\n",
            "\n"
          ]
        }
      ]
    },
    {
      "cell_type": "code",
      "source": [
        "cm_td = confusion_matrix(y_test, decision_tree_predictions)\n",
        "\n",
        "#Graficamos la matriz de confusion\n",
        "plt.figure(figsize=(8, 6))\n",
        "sns.heatmap(cm_td, annot=True, fmt='d', cmap='Blues')\n",
        "plt.title('Matriz de Confusión - Arbol de Decision ')\n",
        "plt.xlabel('Predicho')\n",
        "plt.ylabel('Real')\n",
        "plt.show()"
      ],
      "metadata": {
        "colab": {
          "base_uri": "https://localhost:8080/",
          "height": 564
        },
        "id": "LAXEYzZiN7cY",
        "outputId": "dc6c995b-3803-498f-a9de-1dc688ad671a"
      },
      "execution_count": null,
      "outputs": [
        {
          "output_type": "display_data",
          "data": {
            "text/plain": [
              "<Figure size 800x600 with 2 Axes>"
            ],
            "image/png": "[encoded data removed]"
          },
          "metadata": {}
        }
      ]
    },
    {
      "cell_type": "code",
      "source": [
        "# Evaluación para Naive Bayes\n",
        "naive_bayes_predictions = naive_bayes.predict(X_test)\n",
        "print(\"Accuracy (Naive Bayes):\", accuracy_score(y_test, naive_bayes_predictions))\n",
        "print(\"Confusion Matrix (Naive Bayes):\")\n",
        "print(confusion_matrix(y_test, naive_bayes_predictions))\n",
        "print(\"Classification Report (Naive Bayes):\")\n",
        "print(classification_report(y_test, naive_bayes_predictions))"
      ],
      "metadata": {
        "colab": {
          "base_uri": "https://localhost:8080/"
        },
        "id": "ZSUMi6LdN7SJ",
        "outputId": "e32b727c-a2f1-4771-e597-1615ebc241c8"
      },
      "execution_count": null,
      "outputs": [
        {
          "output_type": "stream",
          "name": "stdout",
          "text": [
            "Accuracy (Naive Bayes): 0.6881188118811881\n",
            "Confusion Matrix (Naive Bayes):\n",
            "[[157  49]\n",
            " [ 77 121]]\n",
            "Classification Report (Naive Bayes):\n",
            "              precision    recall  f1-score   support\n",
            "\n",
            "           0       0.67      0.76      0.71       206\n",
            "           1       0.71      0.61      0.66       198\n",
            "\n",
            "    accuracy                           0.69       404\n",
            "   macro avg       0.69      0.69      0.69       404\n",
            "weighted avg       0.69      0.69      0.69       404\n",
            "\n"
          ]
        }
      ]
    },
    {
      "cell_type": "code",
      "source": [
        "cm_nb = confusion_matrix(y_test, naive_bayes_predictions)\n",
        "\n",
        "#Graficamos la matriz de confusion\n",
        "plt.figure(figsize=(8, 6))\n",
        "sns.heatmap(cm_nb, annot=True, fmt='d', cmap='Blues')\n",
        "plt.title('Matriz de Confusión - Arbol de Decision ')\n",
        "plt.xlabel('Predicho')\n",
        "plt.ylabel('Real')\n",
        "plt.show()"
      ],
      "metadata": {
        "colab": {
          "base_uri": "https://localhost:8080/",
          "height": 564
        },
        "id": "5_JiPIIcQ3Hh",
        "outputId": "63fbec32-71e5-455a-fbc2-ac7dc349c97b"
      },
      "execution_count": null,
      "outputs": [
        {
          "output_type": "display_data",
          "data": {
            "text/plain": [
              "<Figure size 800x600 with 2 Axes>"
            ],
            "image/png": "[encoded data removed]"
          },
          "metadata": {}
        }
      ]
    },
    {
      "cell_type": "markdown",
      "source": [
        "VALIDACION"
      ],
      "metadata": {
        "id": "ddYisjrKT2XU"
      }
    },
    {
      "cell_type": "markdown",
      "source": [
        "Validacion simple y cruzada k-fold KNN"
      ],
      "metadata": {
        "id": "25SDK1D9d_fa"
      }
    },
    {
      "cell_type": "code",
      "source": [
        "from sklearn.model_selection import cross_val_score\n",
        "\n",
        "scores = cross_val_score(knn_selected_features, X, y.ravel(), cv=10)\n",
        "\n",
        "\n",
        "print(\"Scores de validación cruzada:\", scores)\n",
        "print(\"Media de los scores:\", scores.mean())\n",
        "print(\"Desviación estándar de los scores:\", scores.std())"
      ],
      "metadata": {
        "colab": {
          "base_uri": "https://localhost:8080/"
        },
        "id": "BTWyOBjWQ3E0",
        "outputId": "c7401e08-f233-4367-b727-a7108cbf5c99"
      },
      "execution_count": null,
      "outputs": [
        {
          "output_type": "stream",
          "name": "stdout",
          "text": [
            "Scores de validación cruzada: [0.58910891 0.59405941 0.53465347 0.56930693 0.57425743 0.46534653\n",
            " 0.53465347 0.5920398  0.58706468 0.58208955]\n",
            "Media de los scores: 0.5622580168464607\n",
            "Desviación estándar de los scores: 0.038389379520264916\n"
          ]
        }
      ]
    },
    {
      "cell_type": "code",
      "source": [
        "cv = KFold(n_splits=5, shuffle=True, random_state=48)\n",
        "\n",
        "scores = cross_val_score(knn_selected_features, X, y.ravel(), cv=cv)\n",
        "\n",
        "print(\"Scores de validación cruzada:\", scores)\n",
        "print(\"Media de los scores:\", scores.mean())\n",
        "print(\"Desviación estándar de los scores:\", scores.std())"
      ],
      "metadata": {
        "colab": {
          "base_uri": "https://localhost:8080/"
        },
        "id": "8mBIlfwvQ3Bz",
        "outputId": "317e8b23-1a68-4d96-8a70-e403d340b09a"
      },
      "execution_count": null,
      "outputs": [
        {
          "output_type": "stream",
          "name": "stdout",
          "text": [
            "Scores de validación cruzada: [0.55693069 0.56683168 0.54342432 0.53349876 0.58064516]\n",
            "Media de los scores: 0.5562661228902047\n",
            "Desviación estándar de los scores: 0.01667138289459972\n"
          ]
        }
      ]
    },
    {
      "cell_type": "code",
      "source": [],
      "metadata": {
        "id": "02Q5-dDhMWyh"
      },
      "execution_count": null,
      "outputs": []
    },
    {
      "cell_type": "markdown",
      "source": [
        "Validacion simple y cruzada k-fold SVM"
      ],
      "metadata": {
        "id": "s4t7Dez0eOeV"
      }
    },
    {
      "cell_type": "code",
      "source": [
        "from sklearn.model_selection import cross_val_score\n",
        "\n",
        "scores = cross_val_score(svm_model, X, y.ravel(), cv=10)\n",
        "\n",
        "\n",
        "print(\"Scores de validación cruzada:\", scores)\n",
        "print(\"Media de los scores:\", scores.mean())\n",
        "print(\"Desviación estándar de los scores:\", scores.std())"
      ],
      "metadata": {
        "colab": {
          "base_uri": "https://localhost:8080/"
        },
        "id": "HhVd0C6MYZtG",
        "outputId": "5a6f88d8-d48a-40da-af29-cca6f9fb0530"
      },
      "execution_count": null,
      "outputs": [
        {
          "output_type": "stream",
          "name": "stdout",
          "text": [
            "Scores de validación cruzada: [0.61386139 0.55940594 0.53960396 0.55445545 0.57920792 0.3960396\n",
            " 0.54455446 0.56716418 0.65671642 0.57711443]\n",
            "Media de los scores: 0.5588123737746911\n",
            "Desviación estándar de los scores: 0.06365756271830282\n"
          ]
        }
      ]
    },
    {
      "cell_type": "code",
      "source": [
        "v = KFold(n_splits=5, shuffle=True, random_state=48)\n",
        "\n",
        "scores = cross_val_score(svm_model, X, y.ravel(), cv=cv)\n",
        "\n",
        "print(\"Scores de validación cruzada:\", scores)\n",
        "print(\"Media de los scores:\", scores.mean())\n",
        "print(\"Desviación estándar de los scores:\", scores.std())"
      ],
      "metadata": {
        "colab": {
          "base_uri": "https://localhost:8080/"
        },
        "id": "9R2DdOUQYZp9",
        "outputId": "2b278f7c-de2d-42eb-ab7d-0f1179d7fcba"
      },
      "execution_count": null,
      "outputs": [
        {
          "output_type": "stream",
          "name": "stdout",
          "text": [
            "Scores de validación cruzada: [0.59158416 0.58168317 0.5483871  0.5483871  0.5235732 ]\n",
            "Media de los scores: 0.5587229442547231\n",
            "Desviación estándar de los scores: 0.0247232490696629\n"
          ]
        }
      ]
    },
    {
      "cell_type": "code",
      "source": [],
      "metadata": {
        "id": "nbKNpdL4YZm4"
      },
      "execution_count": null,
      "outputs": []
    },
    {
      "cell_type": "markdown",
      "source": [
        "Validacion simple y cruzada k-fold Arbol de Decision"
      ],
      "metadata": {
        "id": "4boe8ly4eTp3"
      }
    },
    {
      "cell_type": "code",
      "source": [
        "from sklearn.model_selection import cross_val_score\n",
        "\n",
        "scores = cross_val_score(decision_tree, X, y.ravel(), cv=10)\n",
        "\n",
        "\n",
        "print(\"Scores de validación cruzada:\", scores)\n",
        "print(\"Media de los scores:\", scores.mean())\n",
        "print(\"Desviación estándar de los scores:\", scores.std())"
      ],
      "metadata": {
        "colab": {
          "base_uri": "https://localhost:8080/"
        },
        "id": "d2zJK_fSYZjw",
        "outputId": "64ea42b2-d9e6-4308-c554-d1b67fed1fec"
      },
      "execution_count": null,
      "outputs": [
        {
          "output_type": "stream",
          "name": "stdout",
          "text": [
            "Scores de validación cruzada: [0.77722772 0.66336634 0.74257426 0.64851485 0.62376238 0.72277228\n",
            " 0.63861386 0.63681592 0.69154229 0.6318408 ]\n",
            "Media de los scores: 0.677703068814344\n",
            "Desviación estándar de los scores: 0.05060271806177185\n"
          ]
        }
      ]
    },
    {
      "cell_type": "code",
      "source": [
        "v = KFold(n_splits=5, shuffle=True, random_state=48)\n",
        "\n",
        "scores = cross_val_score(decision_tree, X, y.ravel(), cv=cv)\n",
        "\n",
        "print(\"Scores de validación cruzada:\", scores)\n",
        "print(\"Media de los scores:\", scores.mean())\n",
        "print(\"Desviación estándar de los scores:\", scores.std())"
      ],
      "metadata": {
        "colab": {
          "base_uri": "https://localhost:8080/"
        },
        "id": "Ez3mKMsbYZgu",
        "outputId": "3230a4a5-86f0-44bd-c763-61ade27bb78b"
      },
      "execution_count": null,
      "outputs": [
        {
          "output_type": "stream",
          "name": "stdout",
          "text": [
            "Scores de validación cruzada: [0.7029703  0.6509901  0.6674938  0.68734491 0.70223325]\n",
            "Media de los scores: 0.6822064712674741\n",
            "Desviación estándar de los scores: 0.020246168188065482\n"
          ]
        }
      ]
    },
    {
      "cell_type": "code",
      "source": [],
      "metadata": {
        "id": "a1q3poyJYZdT"
      },
      "execution_count": null,
      "outputs": []
    },
    {
      "cell_type": "markdown",
      "source": [
        "Validacion simple y cruzada k-fold Naive Bayes."
      ],
      "metadata": {
        "id": "nNqBWn9revKX"
      }
    },
    {
      "cell_type": "code",
      "source": [
        "from sklearn.model_selection import cross_val_score\n",
        "\n",
        "scores = cross_val_score(naive_bayes, X, y.ravel(), cv=10)\n",
        "\n",
        "\n",
        "print(\"Scores de validación cruzada:\", scores)\n",
        "print(\"Media de los scores:\", scores.mean())\n",
        "print(\"Desviación estándar de los scores:\", scores.std())"
      ],
      "metadata": {
        "colab": {
          "base_uri": "https://localhost:8080/"
        },
        "id": "0xWBgVebYZaT",
        "outputId": "b14bbe79-5abc-429e-a9aa-e8f5ed84a495"
      },
      "execution_count": null,
      "outputs": [
        {
          "output_type": "stream",
          "name": "stdout",
          "text": [
            "Scores de validación cruzada: [0.72277228 0.65841584 0.55445545 0.58910891 0.64356436 0.32178218\n",
            " 0.6039604  0.50746269 0.62189055 0.61691542]\n",
            "Media de los scores: 0.5840328062657013\n",
            "Desviación estándar de los scores: 0.10333248681931233\n"
          ]
        }
      ]
    },
    {
      "cell_type": "code",
      "source": [
        "v = KFold(n_splits=5, shuffle=True, random_state=48)\n",
        "\n",
        "scores = cross_val_score(naive_bayes, X, y.ravel(), cv=cv)\n",
        "\n",
        "print(\"Scores de validación cruzada:\", scores)\n",
        "print(\"Media de los scores:\", scores.mean())\n",
        "print(\"Desviación estándar de los scores:\", scores.std())"
      ],
      "metadata": {
        "colab": {
          "base_uri": "https://localhost:8080/"
        },
        "id": "RXmbBky-Zv8F",
        "outputId": "5e32bef7-f25a-46ff-b81d-a08fb4eee13c"
      },
      "execution_count": null,
      "outputs": [
        {
          "output_type": "stream",
          "name": "stdout",
          "text": [
            "Scores de validación cruzada: [0.61138614 0.61386139 0.5955335  0.63523573 0.617866  ]\n",
            "Media de los scores: 0.6147765520968969\n",
            "Desviación estándar de los scores: 0.012733815577388676\n"
          ]
        }
      ]
    },
    {
      "cell_type": "code",
      "source": [],
      "metadata": {
        "id": "YNJWOZDoZv4F"
      },
      "execution_count": null,
      "outputs": []
    },
    {
      "cell_type": "markdown",
      "source": [
        "#Ajuste de hiperparámetros"
      ],
      "metadata": {
        "id": "1pBnsb5Riefo"
      }
    },
    {
      "cell_type": "markdown",
      "source": [
        "Ahora prodecemos a ajustar los hiperpametros de cada modelo para ver si logramos alguna mejoria en las predicciones."
      ],
      "metadata": {
        "id": "Rq_iTfsw2BYy"
      }
    },
    {
      "cell_type": "markdown",
      "source": [
        "KNN"
      ],
      "metadata": {
        "id": "DL4pmx-Pi0eW"
      }
    },
    {
      "cell_type": "markdown",
      "source": [
        "GRID SEARCH"
      ],
      "metadata": {
        "id": "J-zoIT6G2T20"
      }
    },
    {
      "cell_type": "code",
      "source": [
        "from sklearn.model_selection import GridSearchCV\n",
        "\n",
        "# Crear un rango de valores de k a probar\n",
        "param_grid = {'n_neighbors': range(1, 20)}\n",
        "\n",
        "# Crear un nuevo modelo KNN\n",
        "knn = KNeighborsClassifier()\n",
        "\n",
        "# Utilizar GridSearchCV para encontrar el mejor valor de k\n",
        "grid_search = GridSearchCV(knn, param_grid, cv=5, scoring='accuracy')\n",
        "grid_search.fit(X_selected, y)\n",
        "\n",
        "# Mostrar el mejor valor de k encontrado\n",
        "print(\"El mejor valor de k encontrado es:\", grid_search.best_params_['n_neighbors'])"
      ],
      "metadata": {
        "colab": {
          "base_uri": "https://localhost:8080/"
        },
        "id": "pNVqnP26LxIk",
        "outputId": "cc778182-9f2b-4278-ea30-67f7d2d3726c"
      },
      "execution_count": null,
      "outputs": [
        {
          "output_type": "stream",
          "name": "stdout",
          "text": [
            "El mejor valor de k encontrado es: 18\n"
          ]
        }
      ]
    },
    {
      "cell_type": "code",
      "source": [
        "best_k = grid_search.best_params_['n_neighbors']\n",
        "\n",
        "# Crear un nuevo modelo KNN con el mejor valor de k\n",
        "knn_best = KNeighborsClassifier(n_neighbors=best_k)\n",
        "\n",
        "\n",
        "knn_best.fit(X_train, y_train)\n",
        "\n"
      ],
      "metadata": {
        "colab": {
          "base_uri": "https://localhost:8080/",
          "height": 75
        },
        "id": "iZLmc8gDkuMj",
        "outputId": "ff576391-52fd-476d-e96c-452fd95e847f"
      },
      "execution_count": null,
      "outputs": [
        {
          "output_type": "execute_result",
          "data": {
            "text/plain": [
              "KNeighborsClassifier(n_neighbors=18)"
            ],
            "text/html": [
              "<style>#sk-container-id-10 {color: black;background-color: white;}#sk-container-id-10 pre{padding: 0;}#sk-container-id-10 div.sk-toggleable {background-color: white;}#sk-container-id-10 label.sk-toggleable__label {cursor: pointer;display: block;width: 100%;margin-bottom: 0;padding: 0.3em;box-sizing: border-box;text-align: center;}#sk-container-id-10 label.sk-toggleable__label-arrow:before {content: \"▸\";float: left;margin-right: 0.25em;color: #696969;}#sk-container-id-10 label.sk-toggleable__label-arrow:hover:before {color: black;}#sk-container-id-10 div.sk-estimator:hover label.sk-toggleable__label-arrow:before {color: black;}#sk-container-id-10 div.sk-toggleable__content {max-height: 0;max-width: 0;overflow: hidden;text-align: left;background-color: #f0f8ff;}#sk-container-id-10 div.sk-toggleable__content pre {margin: 0.2em;color: black;border-radius: 0.25em;background-color: #f0f8ff;}#sk-container-id-10 input.sk-toggleable__control:checked~div.sk-toggleable__content {max-height: 200px;max-width: 100%;overflow: auto;}#sk-container-id-10 input.sk-toggleable__control:checked~label.sk-toggleable__label-arrow:before {content: \"▾\";}#sk-container-id-10 div.sk-estimator input.sk-toggleable__control:checked~label.sk-toggleable__label {background-color: #d4ebff;}#sk-container-id-10 div.sk-label input.sk-toggleable__control:checked~label.sk-toggleable__label {background-color: #d4ebff;}#sk-container-id-10 input.sk-hidden--visually {border: 0;clip: rect(1px 1px 1px 1px);clip: rect(1px, 1px, 1px, 1px);height: 1px;margin: -1px;overflow: hidden;padding: 0;position: absolute;width: 1px;}#sk-container-id-10 div.sk-estimator {font-family: monospace;background-color: #f0f8ff;border: 1px dotted black;border-radius: 0.25em;box-sizing: border-box;margin-bottom: 0.5em;}#sk-container-id-10 div.sk-estimator:hover {background-color: #d4ebff;}#sk-container-id-10 div.sk-parallel-item::after {content: \"\";width: 100%;border-bottom: 1px solid gray;flex-grow: 1;}#sk-container-id-10 div.sk-label:hover label.sk-toggleable__label {background-color: #d4ebff;}#sk-container-id-10 div.sk-serial::before {content: \"\";position: absolute;border-left: 1px solid gray;box-sizing: border-box;top: 0;bottom: 0;left: 50%;z-index: 0;}#sk-container-id-10 div.sk-serial {display: flex;flex-direction: column;align-items: center;background-color: white;padding-right: 0.2em;padding-left: 0.2em;position: relative;}#sk-container-id-10 div.sk-item {position: relative;z-index: 1;}#sk-container-id-10 div.sk-parallel {display: flex;align-items: stretch;justify-content: center;background-color: white;position: relative;}#sk-container-id-10 div.sk-item::before, #sk-container-id-10 div.sk-parallel-item::before {content: \"\";position: absolute;border-left: 1px solid gray;box-sizing: border-box;top: 0;bottom: 0;left: 50%;z-index: -1;}#sk-container-id-10 div.sk-parallel-item {display: flex;flex-direction: column;z-index: 1;position: relative;background-color: white;}#sk-container-id-10 div.sk-parallel-item:first-child::after {align-self: flex-end;width: 50%;}#sk-container-id-10 div.sk-parallel-item:last-child::after {align-self: flex-start;width: 50%;}#sk-container-id-10 div.sk-parallel-item:only-child::after {width: 0;}#sk-container-id-10 div.sk-dashed-wrapped {border: 1px dashed gray;margin: 0 0.4em 0.5em 0.4em;box-sizing: border-box;padding-bottom: 0.4em;background-color: white;}#sk-container-id-10 div.sk-label label {font-family: monospace;font-weight: bold;display: inline-block;line-height: 1.2em;}#sk-container-id-10 div.sk-label-container {text-align: center;}#sk-container-id-10 div.sk-container {/* jupyter's `normalize.less` sets `[hidden] { display: none; }` but bootstrap.min.css set `[hidden] { display: none !important; }` so we also need the `!important` here to be able to override the default hidden behavior on the sphinx rendered scikit-learn.org. See: https://github.com/scikit-learn/scikit-learn/issues/21755 */display: inline-block !important;position: relative;}#sk-container-id-10 div.sk-text-repr-fallback {display: none;}</style><div id=\"sk-container-id-10\" class=\"sk-top-container\"><div class=\"sk-text-repr-fallback\"><pre>KNeighborsClassifier(n_neighbors=18)</pre><b>In a Jupyter environment, please rerun this cell to show the HTML representation or trust the notebook. <br />On GitHub, the HTML representation is unable to render, please try loading this page with nbviewer.org.</b></div><div class=\"sk-container\" hidden><div class=\"sk-item\"><div class=\"sk-estimator sk-toggleable\"><input class=\"sk-toggleable__control sk-hidden--visually\" id=\"sk-estimator-id-10\" type=\"checkbox\" checked><label for=\"sk-estimator-id-10\" class=\"sk-toggleable__label sk-toggleable__label-arrow\">KNeighborsClassifier</label><div class=\"sk-toggleable__content\"><pre>KNeighborsClassifier(n_neighbors=18)</pre></div></div></div></div></div>"
            ]
          },
          "metadata": {},
          "execution_count": 73
        }
      ]
    },
    {
      "cell_type": "code",
      "source": [
        "# Realizar predicciones en el conjunto de prueba\n",
        "y_pred = knn_best.predict(X_test)\n",
        "\n",
        "# Calcular la precisión del modelo\n",
        "accuracy = accuracy_score(y_test, y_pred)\n",
        "print(\"Precisión del modelo KNN \", accuracy)\n",
        "\n",
        "# Mostrar el reporte de clasificación y la matriz de confusión\n",
        "print(\"Reporte de Clasificación:\")\n",
        "print(classification_report(y_test, y_pred))\n",
        "\n",
        "print(\"Matriz de Confusión:\")\n",
        "print(confusion_matrix(y_test, y_pred))"
      ],
      "metadata": {
        "colab": {
          "base_uri": "https://localhost:8080/"
        },
        "id": "sdkTUKFkk5Fc",
        "outputId": "94052602-a847-469e-e1ff-ab29eaa8c7dc"
      },
      "execution_count": null,
      "outputs": [
        {
          "output_type": "stream",
          "name": "stdout",
          "text": [
            "Precisión del modelo KNN con características seleccionadas: 0.6633663366336634\n",
            "Reporte de Clasificación:\n",
            "              precision    recall  f1-score   support\n",
            "\n",
            "           0       0.63      0.81      0.71       206\n",
            "           1       0.72      0.52      0.60       198\n",
            "\n",
            "    accuracy                           0.66       404\n",
            "   macro avg       0.68      0.66      0.65       404\n",
            "weighted avg       0.68      0.66      0.66       404\n",
            "\n",
            "Matriz de Confusión:\n",
            "[[166  40]\n",
            " [ 96 102]]\n"
          ]
        }
      ]
    },
    {
      "cell_type": "markdown",
      "source": [
        "RANDOM SEARCH"
      ],
      "metadata": {
        "id": "oQMtfZlW2YO3"
      }
    },
    {
      "cell_type": "code",
      "source": [
        "from sklearn.model_selection import RandomizedSearchCV\n",
        "from scipy.stats import randint\n",
        "\n",
        "# Definir los hiperparámetros y sus rangos para Random Search\n",
        "param_dist = {\n",
        "    'n_neighbors': randint(1, 20),  # Rango de vecinos\n",
        "    'weights': ['uniform', 'distance']\n",
        "}\n",
        "\n",
        "# Inicializar Randomized Search para KNN\n",
        "random_search_knn = RandomizedSearchCV(KNeighborsClassifier(), param_distributions=param_dist, n_iter=10, cv=5, random_state=42)\n",
        "random_search_knn.fit(X_selected, y)\n",
        "\n",
        "# Obtener los mejores parámetros encontrados por Randomized Search\n",
        "best_params_random_knn = random_search_knn.best_params_"
      ],
      "metadata": {
        "id": "846yG6_BLxff"
      },
      "execution_count": null,
      "outputs": []
    },
    {
      "cell_type": "code",
      "source": [
        "best_params_random_knn"
      ],
      "metadata": {
        "colab": {
          "base_uri": "https://localhost:8080/"
        },
        "id": "DjtR3bFGleaa",
        "outputId": "624f1c18-d861-4604-a8b0-82f353b782d8"
      },
      "execution_count": null,
      "outputs": [
        {
          "output_type": "execute_result",
          "data": {
            "text/plain": [
              "{'n_neighbors': 19, 'weights': 'uniform'}"
            ]
          },
          "metadata": {},
          "execution_count": 75
        }
      ]
    },
    {
      "cell_type": "code",
      "source": [
        "knn_best_params_random = KNeighborsClassifier(n_neighbors=19)\n",
        "\n",
        "# Entrenar el modelo con las características seleccionadas\n",
        "knn_best_params_random.fit(X_train, y_train)\n"
      ],
      "metadata": {
        "colab": {
          "base_uri": "https://localhost:8080/",
          "height": 75
        },
        "id": "mQgZ0zifLwf4",
        "outputId": "db74a92f-f809-4cdf-e372-f3a04cc0e45d"
      },
      "execution_count": null,
      "outputs": [
        {
          "output_type": "execute_result",
          "data": {
            "text/plain": [
              "KNeighborsClassifier(n_neighbors=19)"
            ],
            "text/html": [
              "<style>#sk-container-id-12 {color: black;background-color: white;}#sk-container-id-12 pre{padding: 0;}#sk-container-id-12 div.sk-toggleable {background-color: white;}#sk-container-id-12 label.sk-toggleable__label {cursor: pointer;display: block;width: 100%;margin-bottom: 0;padding: 0.3em;box-sizing: border-box;text-align: center;}#sk-container-id-12 label.sk-toggleable__label-arrow:before {content: \"▸\";float: left;margin-right: 0.25em;color: #696969;}#sk-container-id-12 label.sk-toggleable__label-arrow:hover:before {color: black;}#sk-container-id-12 div.sk-estimator:hover label.sk-toggleable__label-arrow:before {color: black;}#sk-container-id-12 div.sk-toggleable__content {max-height: 0;max-width: 0;overflow: hidden;text-align: left;background-color: #f0f8ff;}#sk-container-id-12 div.sk-toggleable__content pre {margin: 0.2em;color: black;border-radius: 0.25em;background-color: #f0f8ff;}#sk-container-id-12 input.sk-toggleable__control:checked~div.sk-toggleable__content {max-height: 200px;max-width: 100%;overflow: auto;}#sk-container-id-12 input.sk-toggleable__control:checked~label.sk-toggleable__label-arrow:before {content: \"▾\";}#sk-container-id-12 div.sk-estimator input.sk-toggleable__control:checked~label.sk-toggleable__label {background-color: #d4ebff;}#sk-container-id-12 div.sk-label input.sk-toggleable__control:checked~label.sk-toggleable__label {background-color: #d4ebff;}#sk-container-id-12 input.sk-hidden--visually {border: 0;clip: rect(1px 1px 1px 1px);clip: rect(1px, 1px, 1px, 1px);height: 1px;margin: -1px;overflow: hidden;padding: 0;position: absolute;width: 1px;}#sk-container-id-12 div.sk-estimator {font-family: monospace;background-color: #f0f8ff;border: 1px dotted black;border-radius: 0.25em;box-sizing: border-box;margin-bottom: 0.5em;}#sk-container-id-12 div.sk-estimator:hover {background-color: #d4ebff;}#sk-container-id-12 div.sk-parallel-item::after {content: \"\";width: 100%;border-bottom: 1px solid gray;flex-grow: 1;}#sk-container-id-12 div.sk-label:hover label.sk-toggleable__label {background-color: #d4ebff;}#sk-container-id-12 div.sk-serial::before {content: \"\";position: absolute;border-left: 1px solid gray;box-sizing: border-box;top: 0;bottom: 0;left: 50%;z-index: 0;}#sk-container-id-12 div.sk-serial {display: flex;flex-direction: column;align-items: center;background-color: white;padding-right: 0.2em;padding-left: 0.2em;position: relative;}#sk-container-id-12 div.sk-item {position: relative;z-index: 1;}#sk-container-id-12 div.sk-parallel {display: flex;align-items: stretch;justify-content: center;background-color: white;position: relative;}#sk-container-id-12 div.sk-item::before, #sk-container-id-12 div.sk-parallel-item::before {content: \"\";position: absolute;border-left: 1px solid gray;box-sizing: border-box;top: 0;bottom: 0;left: 50%;z-index: -1;}#sk-container-id-12 div.sk-parallel-item {display: flex;flex-direction: column;z-index: 1;position: relative;background-color: white;}#sk-container-id-12 div.sk-parallel-item:first-child::after {align-self: flex-end;width: 50%;}#sk-container-id-12 div.sk-parallel-item:last-child::after {align-self: flex-start;width: 50%;}#sk-container-id-12 div.sk-parallel-item:only-child::after {width: 0;}#sk-container-id-12 div.sk-dashed-wrapped {border: 1px dashed gray;margin: 0 0.4em 0.5em 0.4em;box-sizing: border-box;padding-bottom: 0.4em;background-color: white;}#sk-container-id-12 div.sk-label label {font-family: monospace;font-weight: bold;display: inline-block;line-height: 1.2em;}#sk-container-id-12 div.sk-label-container {text-align: center;}#sk-container-id-12 div.sk-container {/* jupyter's `normalize.less` sets `[hidden] { display: none; }` but bootstrap.min.css set `[hidden] { display: none !important; }` so we also need the `!important` here to be able to override the default hidden behavior on the sphinx rendered scikit-learn.org. See: https://github.com/scikit-learn/scikit-learn/issues/21755 */display: inline-block !important;position: relative;}#sk-container-id-12 div.sk-text-repr-fallback {display: none;}</style><div id=\"sk-container-id-12\" class=\"sk-top-container\"><div class=\"sk-text-repr-fallback\"><pre>KNeighborsClassifier(n_neighbors=19)</pre><b>In a Jupyter environment, please rerun this cell to show the HTML representation or trust the notebook. <br />On GitHub, the HTML representation is unable to render, please try loading this page with nbviewer.org.</b></div><div class=\"sk-container\" hidden><div class=\"sk-item\"><div class=\"sk-estimator sk-toggleable\"><input class=\"sk-toggleable__control sk-hidden--visually\" id=\"sk-estimator-id-12\" type=\"checkbox\" checked><label for=\"sk-estimator-id-12\" class=\"sk-toggleable__label sk-toggleable__label-arrow\">KNeighborsClassifier</label><div class=\"sk-toggleable__content\"><pre>KNeighborsClassifier(n_neighbors=19)</pre></div></div></div></div></div>"
            ]
          },
          "metadata": {},
          "execution_count": 79
        }
      ]
    },
    {
      "cell_type": "code",
      "source": [
        "\n",
        "y_pred = knn_best_params_random.predict(X_test)\n",
        "\n",
        "# Calcular la precisión del modelo\n",
        "accuracy = accuracy_score(y_test, y_pred)\n",
        "print(\"Precisión del modelo KNN con características seleccionadas:\", accuracy)\n",
        "\n",
        "# Mostrar el reporte de clasificación y la matriz de confusión\n",
        "print(\"Reporte de Clasificación:\")\n",
        "print(classification_report(y_test, y_pred))\n",
        "\n",
        "print(\"Matriz de Confusión:\")\n",
        "print(confusion_matrix(y_test, y_pred))"
      ],
      "metadata": {
        "colab": {
          "base_uri": "https://localhost:8080/"
        },
        "id": "hQvwTb0Ekk7g",
        "outputId": "c1b57920-99f2-4d8d-c8d4-609d033f1270"
      },
      "execution_count": null,
      "outputs": [
        {
          "output_type": "stream",
          "name": "stdout",
          "text": [
            "Precisión del modelo KNN con características seleccionadas: 0.6831683168316832\n",
            "Reporte de Clasificación:\n",
            "              precision    recall  f1-score   support\n",
            "\n",
            "           0       0.67      0.75      0.71       206\n",
            "           1       0.70      0.61      0.65       198\n",
            "\n",
            "    accuracy                           0.68       404\n",
            "   macro avg       0.69      0.68      0.68       404\n",
            "weighted avg       0.69      0.68      0.68       404\n",
            "\n",
            "Matriz de Confusión:\n",
            "[[155  51]\n",
            " [ 77 121]]\n"
          ]
        }
      ]
    },
    {
      "cell_type": "markdown",
      "source": [
        "Aqui podemos notar que ajustando los hiperparametros en KNN, ajustando el valor de k, tanto con Grid Search como con Random Search, una mejoria en cuanto al porcentaje de prediccion que nos daba antes de ajustar dichos hiperparametros."
      ],
      "metadata": {
        "id": "B19S0R8F28_8"
      }
    },
    {
      "cell_type": "markdown",
      "source": [
        "SVM(SUPPORT VECTOR MACHINE)"
      ],
      "metadata": {
        "id": "KsJeeDKlnSRb"
      }
    },
    {
      "cell_type": "markdown",
      "source": [
        "GRID SEARCH"
      ],
      "metadata": {
        "id": "R0Ux9SD1pLN-"
      }
    },
    {
      "cell_type": "code",
      "source": [
        "from sklearn.model_selection import GridSearchCV\n",
        "\n",
        "parameters = {'kernel': ['linear', 'rbf'], 'C': [0.1, 1, 10], 'gamma': [0.1, 1, 10]}\n",
        "svc = SVC()\n",
        "clf = GridSearchCV(svc, parameters, scoring='f1_macro')\n",
        "clf.fit(X_train, y_train)\n",
        "\n",
        "print(\"Mejores parámetros:\", clf.best_params_)\n",
        "\n",
        "print(\"Mejor score:\", clf.best_score_)"
      ],
      "metadata": {
        "colab": {
          "base_uri": "https://localhost:8080/"
        },
        "id": "87J_YhAakk1J",
        "outputId": "04982342-ded1-495f-e108-4d6ed115c521"
      },
      "execution_count": null,
      "outputs": [
        {
          "output_type": "stream",
          "name": "stdout",
          "text": [
            "Mejores parámetros: {'C': 10, 'gamma': 0.1, 'kernel': 'rbf'}\n",
            "Mejor score: 0.6970749306717847\n"
          ]
        }
      ]
    },
    {
      "cell_type": "code",
      "source": [
        "svc_best = SVC(C=10, gamma=0.1, kernel='rbf')\n",
        "svc_best.fit(X_train, y_train)\n",
        "\n",
        "\n",
        "y_pred = svc_best.predict(X_test)\n",
        "\n",
        "print(\"Precision:\" , accuracy)\n",
        "print(\"Reporte de Clasificación:\\n\")\n",
        "print(classification_report(y_test, y_pred))"
      ],
      "metadata": {
        "colab": {
          "base_uri": "https://localhost:8080/"
        },
        "id": "dd-OXDempunC",
        "outputId": "6bf91db1-1230-4a3a-ebcb-0244a76eca5e"
      },
      "execution_count": null,
      "outputs": [
        {
          "output_type": "stream",
          "name": "stdout",
          "text": [
            "Precision: 0.6831683168316832\n",
            "Reporte de Clasificación:\n",
            "\n",
            "              precision    recall  f1-score   support\n",
            "\n",
            "           0       0.65      0.80      0.72       206\n",
            "           1       0.72      0.56      0.63       198\n",
            "\n",
            "    accuracy                           0.68       404\n",
            "   macro avg       0.69      0.68      0.67       404\n",
            "weighted avg       0.69      0.68      0.67       404\n",
            "\n"
          ]
        }
      ]
    },
    {
      "cell_type": "markdown",
      "source": [
        "RANDOM SEARCH"
      ],
      "metadata": {
        "id": "IwNxyPDapSKw"
      }
    },
    {
      "cell_type": "code",
      "source": [
        "from sklearn.model_selection import RandomizedSearchCV\n",
        "from scipy.stats import uniform\n",
        "\n",
        "# Definir los hiperparámetros y sus rangos para Random Search de SVM\n",
        "param_dist_svm = {\n",
        "    'C': uniform(0.1, 10.0),\n",
        "    'kernel': ['linear', 'rbf'],\n",
        "    'gamma': ['scale', 'auto']\n",
        "}\n",
        "\n",
        "# Inicializar Randomized Search para SVM\n",
        "random_search_svm = RandomizedSearchCV(SVC(), param_distributions=param_dist_svm, n_iter=10, cv=5, random_state=42)\n",
        "random_search_svm.fit(X_selected, y)\n",
        "\n",
        "# Obtener los mejores parámetros encontrados por Randomized Search para SVM\n",
        "best_params_random_svm = random_search_svm.best_params_\n",
        "\n",
        "print(\"Mejores parámetros:\", random_search_svm.best_params_)\n",
        "\n",
        "print(\"Mejor score:\", random_search_svm.best_score_)"
      ],
      "metadata": {
        "colab": {
          "base_uri": "https://localhost:8080/"
        },
        "id": "LGoYeRMEkkx1",
        "outputId": "848db12d-bdd1-43e3-fc96-af28dc9ed40a"
      },
      "execution_count": null,
      "outputs": [
        {
          "output_type": "stream",
          "name": "stdout",
          "text": [
            "Mejores parámetros: {'C': 8.424426408004217, 'gamma': 'auto', 'kernel': 'rbf'}\n",
            "Mejor score: 0.6469449426332211\n"
          ]
        }
      ]
    },
    {
      "cell_type": "code",
      "source": [
        "svc_best_random = SVC(C=8.4, gamma='auto', kernel='rbf')\n",
        "svc_best_random.fit(X_train, y_train)\n",
        "\n",
        "\n",
        "y_pred = svc_best_random.predict(X_test)\n",
        "\n",
        "print(\"Precision:\" , accuracy)\n",
        "print(\"Reporte de Clasificación:\\n\")\n",
        "print(classification_report(y_test, y_pred))"
      ],
      "metadata": {
        "colab": {
          "base_uri": "https://localhost:8080/"
        },
        "id": "sg13-LACobzW",
        "outputId": "ae4877ca-1573-4603-9251-e5e66c6127ba"
      },
      "execution_count": null,
      "outputs": [
        {
          "output_type": "stream",
          "name": "stdout",
          "text": [
            "Precision: 0.6831683168316832\n",
            "Reporte de Clasificación:\n",
            "\n",
            "              precision    recall  f1-score   support\n",
            "\n",
            "           0       0.66      0.79      0.72       206\n",
            "           1       0.72      0.58      0.64       198\n",
            "\n",
            "    accuracy                           0.68       404\n",
            "   macro avg       0.69      0.68      0.68       404\n",
            "weighted avg       0.69      0.68      0.68       404\n",
            "\n"
          ]
        }
      ]
    },
    {
      "cell_type": "markdown",
      "source": [
        "ARBOL DE DECISION"
      ],
      "metadata": {
        "id": "ok3CPmWlu8up"
      }
    },
    {
      "cell_type": "markdown",
      "source": [
        "GRID SEARCH"
      ],
      "metadata": {
        "id": "ZbEBBb0j54wt"
      }
    },
    {
      "cell_type": "code",
      "source": [
        "# Definir parámetros para Grid Search del Árbol de decisión\n",
        "param_grid_tree = {\n",
        "    'max_depth': [None, 10, 20, 30],\n",
        "    'min_samples_split': [2, 5, 10],\n",
        "    'min_samples_leaf': [1, 2, 4]\n",
        "}\n",
        "\n",
        "# Inicializar Grid Search para el Árbol de decisión\n",
        "grid_search_tree = GridSearchCV(DecisionTreeClassifier(), param_grid_tree, cv=5)\n",
        "grid_search_tree.fit(X_selected, y)\n",
        "\n",
        "# Obtener los mejores parámetros encontrados por Grid Search\n",
        "best_params_tree = grid_search_tree.best_params_"
      ],
      "metadata": {
        "id": "6dGs_auTobwj"
      },
      "execution_count": null,
      "outputs": []
    },
    {
      "cell_type": "code",
      "source": [
        "best_params_tree"
      ],
      "metadata": {
        "colab": {
          "base_uri": "https://localhost:8080/"
        },
        "id": "TtL3w2LzobuC",
        "outputId": "acc426c1-ce1b-4fc6-9a46-a1d60f44f88c"
      },
      "execution_count": null,
      "outputs": [
        {
          "output_type": "execute_result",
          "data": {
            "text/plain": [
              "{'max_depth': 10, 'min_samples_leaf': 2, 'min_samples_split': 5}"
            ]
          },
          "metadata": {},
          "execution_count": 92
        }
      ]
    },
    {
      "cell_type": "markdown",
      "source": [
        "RANDOM SEARCH"
      ],
      "metadata": {
        "id": "03JN-_H85_EE"
      }
    },
    {
      "cell_type": "code",
      "source": [
        "\n",
        "param_dist_tree = {\n",
        "    'max_depth': [None, 10, 20, 30],\n",
        "    'min_samples_split': [2, 5, 10],\n",
        "    'min_samples_leaf': [1, 2, 4]\n",
        "}\n",
        "\n",
        "# Inicializar Randomized Search para Árbol de decisión\n",
        "random_search_tree = RandomizedSearchCV(DecisionTreeClassifier(), param_distributions=param_dist_tree, n_iter=10, cv=5, random_state=42)\n",
        "random_search_tree.fit(X_selected, y)\n",
        "\n",
        "# Obtener los mejores parámetros encontrados por Randomized Search para Árbol de decisión\n",
        "best_params_random_tree = random_search_tree.best_params_"
      ],
      "metadata": {
        "id": "VO9y6zSs5e2j"
      },
      "execution_count": null,
      "outputs": []
    },
    {
      "cell_type": "code",
      "source": [
        "best_params_random_tree"
      ],
      "metadata": {
        "colab": {
          "base_uri": "https://localhost:8080/"
        },
        "id": "LeMSEe9y5kc4",
        "outputId": "574350c0-79b1-4831-e0ff-286b0a0d9c02"
      },
      "execution_count": null,
      "outputs": [
        {
          "output_type": "execute_result",
          "data": {
            "text/plain": [
              "{'min_samples_split': 2, 'min_samples_leaf': 2, 'max_depth': 10}"
            ]
          },
          "metadata": {},
          "execution_count": 115
        }
      ]
    },
    {
      "cell_type": "markdown",
      "source": [
        "Probamos primero con los parametros de Grid Search"
      ],
      "metadata": {
        "id": "Dz4UsXy66C_3"
      }
    },
    {
      "cell_type": "code",
      "source": [
        "best_params_tree = {\n",
        "    'max_depth': 10,\n",
        "    'min_samples_split': 5,\n",
        "    'min_samples_leaf': 2\n",
        "}\n",
        "\n",
        "# Inicializar el modelo de Árbol de decisión con los mejores parámetros\n",
        "best_tree = DecisionTreeClassifier(max_depth=best_params_tree['max_depth'],\n",
        "                                   min_samples_split=best_params_tree['min_samples_split'],\n",
        "                                   min_samples_leaf=best_params_tree['min_samples_leaf'])\n",
        "\n",
        "\n",
        "best_tree.fit(X_train, y_train)\n",
        "\n",
        "\n",
        "y_pred_best_tree = best_tree.predict(X_test)\n",
        "\n",
        "# Evaluar el rendimiento del modelo con los mejores parámetros\n",
        "from sklearn.metrics import accuracy_score, classification_report, confusion_matrix\n",
        "\n",
        "# Calcular la precisión del modelo\n",
        "accuracy_best_tree = accuracy_score(y_test, y_pred_best_tree)\n",
        "print(f\"Precisión del Árbol de decisión con mejores parámetros: {accuracy_best_tree:.2f}\")\n",
        "\n",
        "# Mostrar la matriz de confusión\n",
        "conf_matrix_best_tree = confusion_matrix(y_test, y_pred_best_tree)\n",
        "print(\"Matriz de confusión:\")\n",
        "print(conf_matrix_best_tree)\n",
        "\n",
        "# Mostrar el reporte de clasificación con métricas adicionales\n",
        "print(\"Reporte de clasificación:\")\n",
        "print(classification_report(y_test, y_pred_best_tree))"
      ],
      "metadata": {
        "colab": {
          "base_uri": "https://localhost:8080/"
        },
        "id": "AkWuTpKnobrC",
        "outputId": "d5607417-a926-4311-e17f-329785fd01b8"
      },
      "execution_count": null,
      "outputs": [
        {
          "output_type": "stream",
          "name": "stdout",
          "text": [
            "Precisión del Árbol de decisión con mejores parámetros: 0.68\n",
            "Matriz de confusión:\n",
            "[[146  60]\n",
            " [ 69 129]]\n",
            "Reporte de clasificación:\n",
            "              precision    recall  f1-score   support\n",
            "\n",
            "           0       0.68      0.71      0.69       206\n",
            "           1       0.68      0.65      0.67       198\n",
            "\n",
            "    accuracy                           0.68       404\n",
            "   macro avg       0.68      0.68      0.68       404\n",
            "weighted avg       0.68      0.68      0.68       404\n",
            "\n"
          ]
        }
      ]
    },
    {
      "cell_type": "markdown",
      "source": [
        "Ahora probamos con los parametros que nos arrojo Random Search, que son casi iguales, solo varia un parametro ({'min_samples_split': 2, 'min_samples_leaf': 2, 'max_depth': 10})"
      ],
      "metadata": {
        "id": "TVfHH8-Y6NuY"
      }
    },
    {
      "cell_type": "code",
      "source": [
        "est_params_tree = {\n",
        "    'max_depth': 10,\n",
        "    'min_samples_split': 2,\n",
        "    'min_samples_leaf': 2\n",
        "}\n",
        "\n",
        "# Inicializar el modelo de Árbol de decisión con los mejores parámetros\n",
        "best_tree = DecisionTreeClassifier(max_depth=best_params_tree['max_depth'],\n",
        "                                   min_samples_split=best_params_tree['min_samples_split'],\n",
        "                                   min_samples_leaf=best_params_tree['min_samples_leaf'])\n",
        "\n",
        "\n",
        "best_tree.fit(X_train, y_train)\n",
        "\n",
        "\n",
        "y_pred_best_tree = best_tree.predict(X_test)\n",
        "\n",
        "# Evaluar el rendimiento del modelo con los mejores parámetros\n",
        "from sklearn.metrics import accuracy_score, classification_report, confusion_matrix\n",
        "\n",
        "# Calcular la precisión del modelo\n",
        "accuracy_best_tree = accuracy_score(y_test, y_pred_best_tree)\n",
        "print(f\"Precisión del Árbol de decisión con mejores parámetros: {accuracy_best_tree:.2f}\")\n",
        "\n",
        "# Mostrar la matriz de confusión\n",
        "conf_matrix_best_tree = confusion_matrix(y_test, y_pred_best_tree)\n",
        "print(\"Matriz de confusión:\")\n",
        "print(conf_matrix_best_tree)\n",
        "\n",
        "# Mostrar el reporte de clasificación con métricas adicionales\n",
        "print(\"Reporte de clasificación:\")\n",
        "print(classification_report(y_test, y_pred_best_tree))"
      ],
      "metadata": {
        "colab": {
          "base_uri": "https://localhost:8080/"
        },
        "id": "6Mec5o8f6KI9",
        "outputId": "701f64fe-deed-494b-d3dd-d2c1dafcd292"
      },
      "execution_count": null,
      "outputs": [
        {
          "output_type": "stream",
          "name": "stdout",
          "text": [
            "Precisión del Árbol de decisión con mejores parámetros: 0.68\n",
            "Matriz de confusión:\n",
            "[[140  66]\n",
            " [ 65 133]]\n",
            "Reporte de clasificación:\n",
            "              precision    recall  f1-score   support\n",
            "\n",
            "           0       0.68      0.68      0.68       206\n",
            "           1       0.67      0.67      0.67       198\n",
            "\n",
            "    accuracy                           0.68       404\n",
            "   macro avg       0.68      0.68      0.68       404\n",
            "weighted avg       0.68      0.68      0.68       404\n",
            "\n"
          ]
        }
      ]
    },
    {
      "cell_type": "markdown",
      "source": [
        "Los resultados son casi los mismos con ambas pruebas."
      ],
      "metadata": {
        "id": "jD9A2jwJ6wVB"
      }
    },
    {
      "cell_type": "markdown",
      "source": [
        "\n",
        "\n",
        "---\n",
        "\n"
      ],
      "metadata": {
        "id": "BOWHEUQj6-nc"
      }
    },
    {
      "cell_type": "markdown",
      "source": [
        "#Realizamos el ensamble de los modelos por Votacion Mayoritaria, y luego la evaluación y análisis del rendimiento."
      ],
      "metadata": {
        "id": "yz7TsG92xmzG"
      }
    },
    {
      "cell_type": "code",
      "source": [
        "from sklearn.ensemble import VotingClassifier\n",
        "\n",
        "# Inicializar clasificador por votación\n",
        "voting_clf = VotingClassifier(estimators=[('knn', knn_selected_features), ('svm', svm_model), ('dt', decision_tree)], voting='hard')\n",
        "voting_clf.fit(X_train, y_train)\n",
        "\n",
        "# Realizar predicciones con el ensamble\n",
        "y_pred_ensemble = voting_clf.predict(X_test)\n"
      ],
      "metadata": {
        "id": "o4DZ6kN0oboW"
      },
      "execution_count": null,
      "outputs": []
    },
    {
      "cell_type": "code",
      "source": [
        "from sklearn.metrics import confusion_matrix, precision_score, recall_score, f1_score\n",
        "\n",
        "# Calcular la matriz de confusión del ensamble\n",
        "conf_matrix_ensemble = confusion_matrix(y_test, y_pred_ensemble)\n",
        "print(\"Matriz de confusión del ensamble:\")\n",
        "print(conf_matrix_ensemble)\n",
        "\n",
        "# Calcular la precisión del ensamble\n",
        "precision_ensemble = precision_score(y_test, y_pred_ensemble)\n",
        "print(f\"Precisión del ensamble: {precision_ensemble:.2f}\")\n",
        "\n",
        "# Calcular el recall del ensamble\n",
        "recall_ensemble = recall_score(y_test, y_pred_ensemble)\n",
        "print(f\"Recall del ensamble: {recall_ensemble:.2f}\")\n",
        "\n",
        "# Calcular el F1-score del ensamble\n",
        "f1_ensemble = f1_score(y_test, y_pred_ensemble)\n",
        "print(f\"F1-score del ensamble: {f1_ensemble:.2f}\")"
      ],
      "metadata": {
        "colab": {
          "base_uri": "https://localhost:8080/"
        },
        "id": "xojHCskFobip",
        "outputId": "75dc691c-ea36-4e23-b86c-50cb1dbbc815"
      },
      "execution_count": null,
      "outputs": [
        {
          "output_type": "stream",
          "name": "stdout",
          "text": [
            "Matriz de confusión del ensamble:\n",
            "[[147  59]\n",
            " [ 64 134]]\n",
            "Precisión del ensamble: 0.69\n",
            "Recall del ensamble: 0.68\n",
            "F1-score del ensamble: 0.69\n"
          ]
        }
      ]
    },
    {
      "cell_type": "code",
      "source": [
        "cm_ensamble = confusion_matrix(y_test, y_pred_ensemble)\n",
        "\n",
        "#Graficamos la matriz de confusion del ensamble\n",
        "plt.figure(figsize=(8, 6))\n",
        "sns.heatmap(cm_ensamble, annot=True, fmt='d', cmap='Blues')\n",
        "plt.title('Matriz de Confusión del ensamble')\n",
        "plt.xlabel('Predicho')\n",
        "plt.ylabel('Real')\n",
        "plt.show()"
      ],
      "metadata": {
        "colab": {
          "base_uri": "https://localhost:8080/",
          "height": 564
        },
        "id": "LB-FCm_Lobc3",
        "outputId": "937a2fa8-ed44-4ebf-a6b7-7f471470f861"
      },
      "execution_count": null,
      "outputs": [
        {
          "output_type": "display_data",
          "data": {
            "text/plain": [
              "<Figure size 800x600 with 2 Axes>"
            ],
            "image/png": "[encoded data removed]"
          },
          "metadata": {}
        }
      ]
    },
    {
      "cell_type": "markdown",
      "source": [
        "#Conclusion final:\n",
        "#La verda se nos complico en terminos de tiempo si ya ve ustede a la hora en la que enviamos el archivo\n",
        "#pero al final los porsentajes de prediccion de todos los modelos es alrededor del 70%"
      ],
      "metadata": {
        "id": "DePUbBMNA50D"
      }
    }
  ]
}